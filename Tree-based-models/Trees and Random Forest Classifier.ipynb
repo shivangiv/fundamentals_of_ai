{
 "cells": [
  {
   "cell_type": "markdown",
   "metadata": {},
   "source": [
    "## Implementation of Tree Based Models\n",
    "\n",
    "In this notebook, we extract the features from the dataset and provide it to a data pipeline that processes all numerical, categorical and text features to provide results on tree based models such as Decision Tree and Random Forests."
   ]
  },
  {
   "cell_type": "code",
   "execution_count": 12,
   "metadata": {},
   "outputs": [],
   "source": [
    "import pandas as pd\n",
    "import numpy as np\n",
    "import matplotlib as plt"
   ]
  },
  {
   "cell_type": "markdown",
   "metadata": {},
   "source": [
    "#### 1. Data Processing\n",
    "\n",
    "We import the dataset and find out the shape."
   ]
  },
  {
   "cell_type": "code",
   "execution_count": 13,
   "metadata": {},
   "outputs": [
    {
     "name": "stdout",
     "output_type": "stream",
     "text": [
      "The shape of the dataset is: (3416238, 24)\n"
     ]
    }
   ],
   "source": [
    "#Importing data\n",
    "openpolicing_path=\"C:/Users/SwetaMankala/Desktop/Assignments/EAI6000/ma_statewide_2020.csv\"\n",
    "\n",
    "data=pd.read_csv(openpolicing_path,low_memory=False)\n",
    "print('The shape of the dataset is:', data.shape)"
   ]
  },
  {
   "cell_type": "code",
   "execution_count": 14,
   "metadata": {},
   "outputs": [
    {
     "name": "stdout",
     "output_type": "stream",
     "text": [
      "Index(['raw_row_number', 'date', 'location', 'county_name', 'subject_age',\n",
      "       'subject_race', 'subject_sex', 'type', 'arrest_made', 'citation_issued',\n",
      "       'warning_issued', 'outcome', 'contraband_found', 'contraband_drugs',\n",
      "       'contraband_weapons', 'contraband_alcohol', 'contraband_other',\n",
      "       'frisk_performed', 'search_conducted', 'search_basis',\n",
      "       'reason_for_stop', 'vehicle_type', 'vehicle_registration_state',\n",
      "       'raw_Race'],\n",
      "      dtype='object')\n"
     ]
    }
   ],
   "source": [
    "print(data.columns)"
   ]
  },
  {
   "cell_type": "markdown",
   "metadata": {},
   "source": [
    "The features present in the dataset are split manually into three categories namely numerical, categorical and text features to process them based on their properties. Based on the features extracted, we assign them to model features and model target which will be used in our models. We select the features that are useful for our predictions below."
   ]
  },
  {
   "cell_type": "code",
   "execution_count": 16,
   "metadata": {},
   "outputs": [
    {
     "name": "stdout",
     "output_type": "stream",
     "text": [
      "Model Features: ['subject_age', 'subject_sex', 'type', 'arrest_made', 'citation_issued', 'warning_issued', 'outcome', 'contraband_found', 'frisk_performed', 'search_conducted', 'search_basis', 'reason_for_stop', 'vehicle_type', 'vehicle_registration_state', 'location', 'county_name']\n",
      "Model Target: subject_race\n"
     ]
    }
   ],
   "source": [
    "#numerical features\n",
    "numerical_features = ['subject_age']\n",
    "\n",
    "#categorical features\n",
    "categorical_features = ['subject_sex', 'type', 'arrest_made', 'citation_issued', 'warning_issued',\n",
    "                       'outcome', 'contraband_found', 'frisk_performed', 'search_conducted', 'search_basis', 'reason_for_stop',\n",
    "                       'vehicle_type', 'vehicle_registration_state']\n",
    "\n",
    "#text features\n",
    "text_features = ['location', 'county_name']\n",
    "\n",
    "model_features = numerical_features + categorical_features + text_features\n",
    "model_target = 'subject_race'\n",
    "\n",
    "print('Model Features:', model_features)\n",
    "print('Model Target:', model_target)"
   ]
  },
  {
   "cell_type": "markdown",
   "metadata": {},
   "source": [
    "The features are segregated to adjust them accordingly to fit in our training model. We have selected our model target to be subject race as we would like to classify the subjects based on their race which can be used to improve our statistics later on. \n",
    "\n",
    "We check the categories present in our model target."
   ]
  },
  {
   "cell_type": "code",
   "execution_count": 17,
   "metadata": {},
   "outputs": [
    {
     "data": {
      "text/plain": [
       "white                     2543612\n",
       "black                      353548\n",
       "hispanic                   340271\n",
       "asian/pacific islander     167735\n",
       "other                       11072\n",
       "Name: subject_race, dtype: int64"
      ]
     },
     "execution_count": 17,
     "metadata": {},
     "output_type": "execute_result"
    }
   ],
   "source": [
    "data[model_target].value_counts()"
   ]
  },
  {
   "cell_type": "markdown",
   "metadata": {},
   "source": [
    "We convert the features categorical and text to type string format for ease of use."
   ]
  },
  {
   "cell_type": "code",
   "execution_count": 18,
   "metadata": {},
   "outputs": [],
   "source": [
    "data[categorical_features + text_features] = data[categorical_features + text_features].astype('str')"
   ]
  },
  {
   "cell_type": "markdown",
   "metadata": {},
   "source": [
    "#### 2. Train-Test Split\n",
    "\n",
    "We split our dataset and assign 10% to the test set. Out of the 90%, we assign 30% to validation and training sets."
   ]
  },
  {
   "cell_type": "code",
   "execution_count": 19,
   "metadata": {},
   "outputs": [],
   "source": [
    "from sklearn.model_selection import train_test_split\n",
    "\n",
    "dataset, test_data = train_test_split(data, test_size=0.1, shuffle=True, random_state=23)"
   ]
  },
  {
   "cell_type": "markdown",
   "metadata": {},
   "source": [
    "The validation set evaluates the model to use the fitted model to test the accuracy. This will ensure the model to work properly before running it on the test dataset."
   ]
  },
  {
   "cell_type": "code",
   "execution_count": 20,
   "metadata": {},
   "outputs": [],
   "source": [
    "train_data, val_data = train_test_split(dataset, test_size=0.7, shuffle=True, random_state=23)"
   ]
  },
  {
   "cell_type": "markdown",
   "metadata": {},
   "source": [
    "### Data Pipeline with Decision Tree Classifier"
   ]
  },
  {
   "cell_type": "markdown",
   "metadata": {},
   "source": [
    "#### 3. Decision Tree Data Pipeline\n",
    "\n",
    "We build separate pipelines to handle the numerical, categorical, and text features, and then combine them into a composite pipeline along with an estimator, which is the Decision Tree Classifier.\n",
    "\n",
    " * For the numerical features pipeline, the __numerical_processor__ below, we impute missing values with the mean using sklearn's SimpleImputer, followed by a MinMaxScaler (don't have to scale features when using Decision Trees, but it's a good idea to see how to use more data transforms). If different processing is desired for different numerical features, different pipelines should be built - just like shown below for the two text features.\n",
    "   \n",
    "   \n",
    "   * In the categoricals pipeline, the __categorical_processor__ below, we impute with a placeholder value (no effect here as we already encoded the 'nan's), and encode with sklearn's OneHotEncoder. If computing memory is an issue, it is a good idea to check categoricals' unique values, to get an estimate of many dummy features will be created by one-hot encoding. Note the __handle_unknown__ parameter that tells the encoder to ignore (rather than throw an error for) any unique value that might show in the validation/and or test set that was not present in the initial training set.\n",
    "  \n",
    "   \n",
    "   * Finally, we build two more pipelines, one for each of our text features using the CountVectorizer().\n",
    "   \n",
    "These features are selected and combined together in the Column Transformer. This ensures that the transforms are performed automatically on the raw data when fitting the model and when making predictions, such as when evaluating the model on a validation dataset via cross-validation or making predictions on a test dataset in the future."
   ]
  },
  {
   "cell_type": "code",
   "execution_count": 21,
   "metadata": {},
   "outputs": [
    {
     "data": {
      "text/html": [
       "<style>div.sk-top-container {color: black;background-color: white;}div.sk-toggleable {background-color: white;}label.sk-toggleable__label {cursor: pointer;display: block;width: 100%;margin-bottom: 0;padding: 0.2em 0.3em;box-sizing: border-box;text-align: center;}div.sk-toggleable__content {max-height: 0;max-width: 0;overflow: hidden;text-align: left;background-color: #f0f8ff;}div.sk-toggleable__content pre {margin: 0.2em;color: black;border-radius: 0.25em;background-color: #f0f8ff;}input.sk-toggleable__control:checked~div.sk-toggleable__content {max-height: 200px;max-width: 100%;overflow: auto;}div.sk-estimator input.sk-toggleable__control:checked~label.sk-toggleable__label {background-color: #d4ebff;}div.sk-label input.sk-toggleable__control:checked~label.sk-toggleable__label {background-color: #d4ebff;}input.sk-hidden--visually {border: 0;clip: rect(1px 1px 1px 1px);clip: rect(1px, 1px, 1px, 1px);height: 1px;margin: -1px;overflow: hidden;padding: 0;position: absolute;width: 1px;}div.sk-estimator {font-family: monospace;background-color: #f0f8ff;margin: 0.25em 0.25em;border: 1px dotted black;border-radius: 0.25em;box-sizing: border-box;}div.sk-estimator:hover {background-color: #d4ebff;}div.sk-parallel-item::after {content: \"\";width: 100%;border-bottom: 1px solid gray;flex-grow: 1;}div.sk-label:hover label.sk-toggleable__label {background-color: #d4ebff;}div.sk-serial::before {content: \"\";position: absolute;border-left: 1px solid gray;box-sizing: border-box;top: 2em;bottom: 0;left: 50%;}div.sk-serial {display: flex;flex-direction: column;align-items: center;background-color: white;}div.sk-item {z-index: 1;}div.sk-parallel {display: flex;align-items: stretch;justify-content: center;background-color: white;}div.sk-parallel-item {display: flex;flex-direction: column;position: relative;background-color: white;}div.sk-parallel-item:first-child::after {align-self: flex-end;width: 50%;}div.sk-parallel-item:last-child::after {align-self: flex-start;width: 50%;}div.sk-parallel-item:only-child::after {width: 0;}div.sk-dashed-wrapped {border: 1px dashed gray;margin: 0.2em;box-sizing: border-box;padding-bottom: 0.1em;background-color: white;position: relative;}div.sk-label label {font-family: monospace;font-weight: bold;background-color: white;display: inline-block;line-height: 1.2em;}div.sk-label-container {position: relative;z-index: 2;text-align: center;}div.sk-container {display: inline-block;position: relative;}</style><div class=\"sk-top-container\"><div class=\"sk-container\"><div class=\"sk-item sk-dashed-wrapped\"><div class=\"sk-label-container\"><div class=\"sk-label sk-toggleable\"><input class=\"sk-toggleable__control sk-hidden--visually\" id=\"f175d5b0-3517-4689-9cda-6e3b4d67c868\" type=\"checkbox\" ><label class=\"sk-toggleable__label\" for=\"f175d5b0-3517-4689-9cda-6e3b4d67c868\">Pipeline</label><div class=\"sk-toggleable__content\"><pre>Pipeline(steps=[('data_preprocessing',\n",
       "                 ColumnTransformer(transformers=[('numeric',\n",
       "                                                  Pipeline(steps=[('num_scaler',\n",
       "                                                                   MinMaxScaler())]),\n",
       "                                                  ['subject_age']),\n",
       "                                                 ('categoric',\n",
       "                                                  Pipeline(steps=[('cat_encoder',\n",
       "                                                                   OneHotEncoder(handle_unknown='ignore'))]),\n",
       "                                                  ['subject_sex', 'type',\n",
       "                                                   'arrest_made',\n",
       "                                                   'citation_issued',\n",
       "                                                   'warning_issued', 'outcome',\n",
       "                                                   'contraband_found',\n",
       "                                                   'frisk_performed',\n",
       "                                                   'search_conducted',\n",
       "                                                   'search_basis',\n",
       "                                                   'reason_for_stop',\n",
       "                                                   'vehicle_type',\n",
       "                                                   'vehicle_registration_state']),\n",
       "                                                 ('text_pro0',\n",
       "                                                  Pipeline(steps=[('text_vect0',\n",
       "                                                                   CountVectorizer(binary=True,\n",
       "                                                                                   max_features=50))]),\n",
       "                                                  'location'),\n",
       "                                                 ('text_pro1',\n",
       "                                                  Pipeline(steps=[('text_vect1',\n",
       "                                                                   CountVectorizer(binary=True,\n",
       "                                                                                   max_features=50))]),\n",
       "                                                  'county_name')])),\n",
       "                ('dt', DecisionTreeClassifier())])</pre></div></div></div><div class=\"sk-serial\"><div class=\"sk-item sk-dashed-wrapped\"><div class=\"sk-label-container\"><div class=\"sk-label sk-toggleable\"><input class=\"sk-toggleable__control sk-hidden--visually\" id=\"9708ef76-16b8-46d8-9c6f-7261c5108c74\" type=\"checkbox\" ><label class=\"sk-toggleable__label\" for=\"9708ef76-16b8-46d8-9c6f-7261c5108c74\">data_preprocessing: ColumnTransformer</label><div class=\"sk-toggleable__content\"><pre>ColumnTransformer(transformers=[('numeric',\n",
       "                                 Pipeline(steps=[('num_scaler',\n",
       "                                                  MinMaxScaler())]),\n",
       "                                 ['subject_age']),\n",
       "                                ('categoric',\n",
       "                                 Pipeline(steps=[('cat_encoder',\n",
       "                                                  OneHotEncoder(handle_unknown='ignore'))]),\n",
       "                                 ['subject_sex', 'type', 'arrest_made',\n",
       "                                  'citation_issued', 'warning_issued',\n",
       "                                  'outcome', 'contraband_found',\n",
       "                                  'frisk_performed', 'search_conducted',\n",
       "                                  'search_basis', 'reason_for_stop',\n",
       "                                  'vehicle_type',\n",
       "                                  'vehicle_registration_state']),\n",
       "                                ('text_pro0',\n",
       "                                 Pipeline(steps=[('text_vect0',\n",
       "                                                  CountVectorizer(binary=True,\n",
       "                                                                  max_features=50))]),\n",
       "                                 'location'),\n",
       "                                ('text_pro1',\n",
       "                                 Pipeline(steps=[('text_vect1',\n",
       "                                                  CountVectorizer(binary=True,\n",
       "                                                                  max_features=50))]),\n",
       "                                 'county_name')])</pre></div></div></div><div class=\"sk-parallel\"><div class=\"sk-parallel-item\"><div class=\"sk-item\"><div class=\"sk-label-container\"><div class=\"sk-label sk-toggleable\"><input class=\"sk-toggleable__control sk-hidden--visually\" id=\"dc723428-075c-4558-a22a-833d085525f9\" type=\"checkbox\" ><label class=\"sk-toggleable__label\" for=\"dc723428-075c-4558-a22a-833d085525f9\">numeric</label><div class=\"sk-toggleable__content\"><pre>['subject_age']</pre></div></div></div><div class=\"sk-serial\"><div class=\"sk-item\"><div class=\"sk-serial\"><div class=\"sk-item\"><div class=\"sk-estimator sk-toggleable\"><input class=\"sk-toggleable__control sk-hidden--visually\" id=\"8fa33ead-5740-4523-8f4d-2134080c2d45\" type=\"checkbox\" ><label class=\"sk-toggleable__label\" for=\"8fa33ead-5740-4523-8f4d-2134080c2d45\">MinMaxScaler</label><div class=\"sk-toggleable__content\"><pre>MinMaxScaler()</pre></div></div></div></div></div></div></div></div><div class=\"sk-parallel-item\"><div class=\"sk-item\"><div class=\"sk-label-container\"><div class=\"sk-label sk-toggleable\"><input class=\"sk-toggleable__control sk-hidden--visually\" id=\"b1625836-3d8d-4c99-b8e7-ba744ce9d65e\" type=\"checkbox\" ><label class=\"sk-toggleable__label\" for=\"b1625836-3d8d-4c99-b8e7-ba744ce9d65e\">categoric</label><div class=\"sk-toggleable__content\"><pre>['subject_sex', 'type', 'arrest_made', 'citation_issued', 'warning_issued', 'outcome', 'contraband_found', 'frisk_performed', 'search_conducted', 'search_basis', 'reason_for_stop', 'vehicle_type', 'vehicle_registration_state']</pre></div></div></div><div class=\"sk-serial\"><div class=\"sk-item\"><div class=\"sk-serial\"><div class=\"sk-item\"><div class=\"sk-estimator sk-toggleable\"><input class=\"sk-toggleable__control sk-hidden--visually\" id=\"57347ae1-c00a-4b17-bc78-207f61d726b9\" type=\"checkbox\" ><label class=\"sk-toggleable__label\" for=\"57347ae1-c00a-4b17-bc78-207f61d726b9\">OneHotEncoder</label><div class=\"sk-toggleable__content\"><pre>OneHotEncoder(handle_unknown='ignore')</pre></div></div></div></div></div></div></div></div><div class=\"sk-parallel-item\"><div class=\"sk-item\"><div class=\"sk-label-container\"><div class=\"sk-label sk-toggleable\"><input class=\"sk-toggleable__control sk-hidden--visually\" id=\"62c26a66-87d8-4f0d-af47-e2b12cd6271d\" type=\"checkbox\" ><label class=\"sk-toggleable__label\" for=\"62c26a66-87d8-4f0d-af47-e2b12cd6271d\">text_pro0</label><div class=\"sk-toggleable__content\"><pre>location</pre></div></div></div><div class=\"sk-serial\"><div class=\"sk-item\"><div class=\"sk-serial\"><div class=\"sk-item\"><div class=\"sk-estimator sk-toggleable\"><input class=\"sk-toggleable__control sk-hidden--visually\" id=\"183f023f-3491-4adb-ba29-021cd5762e0c\" type=\"checkbox\" ><label class=\"sk-toggleable__label\" for=\"183f023f-3491-4adb-ba29-021cd5762e0c\">CountVectorizer</label><div class=\"sk-toggleable__content\"><pre>CountVectorizer(binary=True, max_features=50)</pre></div></div></div></div></div></div></div></div><div class=\"sk-parallel-item\"><div class=\"sk-item\"><div class=\"sk-label-container\"><div class=\"sk-label sk-toggleable\"><input class=\"sk-toggleable__control sk-hidden--visually\" id=\"8f50eb0b-ec29-4d7f-bfcb-2b01a592ab05\" type=\"checkbox\" ><label class=\"sk-toggleable__label\" for=\"8f50eb0b-ec29-4d7f-bfcb-2b01a592ab05\">text_pro1</label><div class=\"sk-toggleable__content\"><pre>county_name</pre></div></div></div><div class=\"sk-serial\"><div class=\"sk-item\"><div class=\"sk-serial\"><div class=\"sk-item\"><div class=\"sk-estimator sk-toggleable\"><input class=\"sk-toggleable__control sk-hidden--visually\" id=\"3f845d5e-59ea-4b64-ab7b-df502981dd2c\" type=\"checkbox\" ><label class=\"sk-toggleable__label\" for=\"3f845d5e-59ea-4b64-ab7b-df502981dd2c\">CountVectorizer</label><div class=\"sk-toggleable__content\"><pre>CountVectorizer(binary=True, max_features=50)</pre></div></div></div></div></div></div></div></div></div></div><div class=\"sk-item\"><div class=\"sk-estimator sk-toggleable\"><input class=\"sk-toggleable__control sk-hidden--visually\" id=\"5d647c9d-bfc7-4e7a-8057-498d7f0a4abb\" type=\"checkbox\" ><label class=\"sk-toggleable__label\" for=\"5d647c9d-bfc7-4e7a-8057-498d7f0a4abb\">DecisionTreeClassifier</label><div class=\"sk-toggleable__content\"><pre>DecisionTreeClassifier()</pre></div></div></div></div></div></div></div>"
      ],
      "text/plain": [
       "Pipeline(steps=[('data_preprocessing',\n",
       "                 ColumnTransformer(transformers=[('numeric',\n",
       "                                                  Pipeline(steps=[('num_scaler',\n",
       "                                                                   MinMaxScaler())]),\n",
       "                                                  ['subject_age']),\n",
       "                                                 ('categoric',\n",
       "                                                  Pipeline(steps=[('cat_encoder',\n",
       "                                                                   OneHotEncoder(handle_unknown='ignore'))]),\n",
       "                                                  ['subject_sex', 'type',\n",
       "                                                   'arrest_made',\n",
       "                                                   'citation_issued',\n",
       "                                                   'warning_issued', 'outcome',\n",
       "                                                   'contraband_found',\n",
       "                                                   'frisk_performed',\n",
       "                                                   'search_conducted',\n",
       "                                                   'search_basis',\n",
       "                                                   'reason_for_stop',\n",
       "                                                   'vehicle_type',\n",
       "                                                   'vehicle_registration_state']),\n",
       "                                                 ('text_pro0',\n",
       "                                                  Pipeline(steps=[('text_vect0',\n",
       "                                                                   CountVectorizer(binary=True,\n",
       "                                                                                   max_features=50))]),\n",
       "                                                  'location'),\n",
       "                                                 ('text_pro1',\n",
       "                                                  Pipeline(steps=[('text_vect1',\n",
       "                                                                   CountVectorizer(binary=True,\n",
       "                                                                                   max_features=50))]),\n",
       "                                                  'county_name')])),\n",
       "                ('dt', DecisionTreeClassifier())])"
      ]
     },
     "execution_count": 21,
     "metadata": {},
     "output_type": "execute_result"
    }
   ],
   "source": [
    "from sklearn.preprocessing import MinMaxScaler, OneHotEncoder\n",
    "from sklearn.feature_extraction.text import CountVectorizer\n",
    "from sklearn.pipeline import Pipeline\n",
    "from sklearn.compose import ColumnTransformer\n",
    "from sklearn.tree import DecisionTreeClassifier\n",
    "\n",
    "numerical_processor = Pipeline([\n",
    "    ('num_scaler', MinMaxScaler())\n",
    "])\n",
    "\n",
    "categorical_processor = Pipeline([\n",
    "    ('cat_encoder', OneHotEncoder(handle_unknown='ignore'))\n",
    "])\n",
    "\n",
    "text_processor0 = Pipeline([\n",
    "    ('text_vect0', CountVectorizer(binary=True, max_features=50))\n",
    "])\n",
    "\n",
    "text_processor1 = Pipeline([\n",
    "    ('text_vect1', CountVectorizer(binary=True, max_features=50))\n",
    "])\n",
    "\n",
    "data_preprocessor = ColumnTransformer([\n",
    "    ('numeric', numerical_processor, numerical_features),\n",
    "    ('categoric', categorical_processor, categorical_features),\n",
    "    ('text_pro0', text_processor0, text_features[0]),\n",
    "    ('text_pro1', text_processor1, text_features[1])\n",
    "])\n",
    "\n",
    "pipeline1 = Pipeline([\n",
    "    ('data_preprocessing', data_preprocessor),\n",
    "    ('dt', DecisionTreeClassifier())\n",
    "])\n",
    "\n",
    "from sklearn import set_config\n",
    "set_config(display='diagram')\n",
    "pipeline1"
   ]
  },
  {
   "cell_type": "markdown",
   "metadata": {},
   "source": [
    "### Training the Model\n",
    "\n",
    "#### 4. Training the model on Train and Cross Validation datasets."
   ]
  },
  {
   "cell_type": "code",
   "execution_count": 22,
   "metadata": {},
   "outputs": [
    {
     "data": {
      "text/html": [
       "<style>div.sk-top-container {color: black;background-color: white;}div.sk-toggleable {background-color: white;}label.sk-toggleable__label {cursor: pointer;display: block;width: 100%;margin-bottom: 0;padding: 0.2em 0.3em;box-sizing: border-box;text-align: center;}div.sk-toggleable__content {max-height: 0;max-width: 0;overflow: hidden;text-align: left;background-color: #f0f8ff;}div.sk-toggleable__content pre {margin: 0.2em;color: black;border-radius: 0.25em;background-color: #f0f8ff;}input.sk-toggleable__control:checked~div.sk-toggleable__content {max-height: 200px;max-width: 100%;overflow: auto;}div.sk-estimator input.sk-toggleable__control:checked~label.sk-toggleable__label {background-color: #d4ebff;}div.sk-label input.sk-toggleable__control:checked~label.sk-toggleable__label {background-color: #d4ebff;}input.sk-hidden--visually {border: 0;clip: rect(1px 1px 1px 1px);clip: rect(1px, 1px, 1px, 1px);height: 1px;margin: -1px;overflow: hidden;padding: 0;position: absolute;width: 1px;}div.sk-estimator {font-family: monospace;background-color: #f0f8ff;margin: 0.25em 0.25em;border: 1px dotted black;border-radius: 0.25em;box-sizing: border-box;}div.sk-estimator:hover {background-color: #d4ebff;}div.sk-parallel-item::after {content: \"\";width: 100%;border-bottom: 1px solid gray;flex-grow: 1;}div.sk-label:hover label.sk-toggleable__label {background-color: #d4ebff;}div.sk-serial::before {content: \"\";position: absolute;border-left: 1px solid gray;box-sizing: border-box;top: 2em;bottom: 0;left: 50%;}div.sk-serial {display: flex;flex-direction: column;align-items: center;background-color: white;}div.sk-item {z-index: 1;}div.sk-parallel {display: flex;align-items: stretch;justify-content: center;background-color: white;}div.sk-parallel-item {display: flex;flex-direction: column;position: relative;background-color: white;}div.sk-parallel-item:first-child::after {align-self: flex-end;width: 50%;}div.sk-parallel-item:last-child::after {align-self: flex-start;width: 50%;}div.sk-parallel-item:only-child::after {width: 0;}div.sk-dashed-wrapped {border: 1px dashed gray;margin: 0.2em;box-sizing: border-box;padding-bottom: 0.1em;background-color: white;position: relative;}div.sk-label label {font-family: monospace;font-weight: bold;background-color: white;display: inline-block;line-height: 1.2em;}div.sk-label-container {position: relative;z-index: 2;text-align: center;}div.sk-container {display: inline-block;position: relative;}</style><div class=\"sk-top-container\"><div class=\"sk-container\"><div class=\"sk-item sk-dashed-wrapped\"><div class=\"sk-label-container\"><div class=\"sk-label sk-toggleable\"><input class=\"sk-toggleable__control sk-hidden--visually\" id=\"47db4dce-22fe-431b-81df-7c96107415e6\" type=\"checkbox\" ><label class=\"sk-toggleable__label\" for=\"47db4dce-22fe-431b-81df-7c96107415e6\">Pipeline</label><div class=\"sk-toggleable__content\"><pre>Pipeline(steps=[('data_preprocessing',\n",
       "                 ColumnTransformer(transformers=[('numeric',\n",
       "                                                  Pipeline(steps=[('num_scaler',\n",
       "                                                                   MinMaxScaler())]),\n",
       "                                                  ['subject_age']),\n",
       "                                                 ('categoric',\n",
       "                                                  Pipeline(steps=[('cat_encoder',\n",
       "                                                                   OneHotEncoder(handle_unknown='ignore'))]),\n",
       "                                                  ['subject_sex', 'type',\n",
       "                                                   'arrest_made',\n",
       "                                                   'citation_issued',\n",
       "                                                   'warning_issued', 'outcome',\n",
       "                                                   'contraband_found',\n",
       "                                                   'frisk_performed',\n",
       "                                                   'search_conducted',\n",
       "                                                   'search_basis',\n",
       "                                                   'reason_for_stop',\n",
       "                                                   'vehicle_type',\n",
       "                                                   'vehicle_registration_state']),\n",
       "                                                 ('text_pro0',\n",
       "                                                  Pipeline(steps=[('text_vect0',\n",
       "                                                                   CountVectorizer(binary=True,\n",
       "                                                                                   max_features=50))]),\n",
       "                                                  'location'),\n",
       "                                                 ('text_pro1',\n",
       "                                                  Pipeline(steps=[('text_vect1',\n",
       "                                                                   CountVectorizer(binary=True,\n",
       "                                                                                   max_features=50))]),\n",
       "                                                  'county_name')])),\n",
       "                ('dt', DecisionTreeClassifier())])</pre></div></div></div><div class=\"sk-serial\"><div class=\"sk-item sk-dashed-wrapped\"><div class=\"sk-label-container\"><div class=\"sk-label sk-toggleable\"><input class=\"sk-toggleable__control sk-hidden--visually\" id=\"368e87a0-9667-445e-8f6b-35c6142fb880\" type=\"checkbox\" ><label class=\"sk-toggleable__label\" for=\"368e87a0-9667-445e-8f6b-35c6142fb880\">data_preprocessing: ColumnTransformer</label><div class=\"sk-toggleable__content\"><pre>ColumnTransformer(transformers=[('numeric',\n",
       "                                 Pipeline(steps=[('num_scaler',\n",
       "                                                  MinMaxScaler())]),\n",
       "                                 ['subject_age']),\n",
       "                                ('categoric',\n",
       "                                 Pipeline(steps=[('cat_encoder',\n",
       "                                                  OneHotEncoder(handle_unknown='ignore'))]),\n",
       "                                 ['subject_sex', 'type', 'arrest_made',\n",
       "                                  'citation_issued', 'warning_issued',\n",
       "                                  'outcome', 'contraband_found',\n",
       "                                  'frisk_performed', 'search_conducted',\n",
       "                                  'search_basis', 'reason_for_stop',\n",
       "                                  'vehicle_type',\n",
       "                                  'vehicle_registration_state']),\n",
       "                                ('text_pro0',\n",
       "                                 Pipeline(steps=[('text_vect0',\n",
       "                                                  CountVectorizer(binary=True,\n",
       "                                                                  max_features=50))]),\n",
       "                                 'location'),\n",
       "                                ('text_pro1',\n",
       "                                 Pipeline(steps=[('text_vect1',\n",
       "                                                  CountVectorizer(binary=True,\n",
       "                                                                  max_features=50))]),\n",
       "                                 'county_name')])</pre></div></div></div><div class=\"sk-parallel\"><div class=\"sk-parallel-item\"><div class=\"sk-item\"><div class=\"sk-label-container\"><div class=\"sk-label sk-toggleable\"><input class=\"sk-toggleable__control sk-hidden--visually\" id=\"f8bd5884-d4b5-48a0-abe9-1dda8406f072\" type=\"checkbox\" ><label class=\"sk-toggleable__label\" for=\"f8bd5884-d4b5-48a0-abe9-1dda8406f072\">numeric</label><div class=\"sk-toggleable__content\"><pre>['subject_age']</pre></div></div></div><div class=\"sk-serial\"><div class=\"sk-item\"><div class=\"sk-serial\"><div class=\"sk-item\"><div class=\"sk-estimator sk-toggleable\"><input class=\"sk-toggleable__control sk-hidden--visually\" id=\"baaab351-4c29-438f-a39f-5e6590cc7fa6\" type=\"checkbox\" ><label class=\"sk-toggleable__label\" for=\"baaab351-4c29-438f-a39f-5e6590cc7fa6\">MinMaxScaler</label><div class=\"sk-toggleable__content\"><pre>MinMaxScaler()</pre></div></div></div></div></div></div></div></div><div class=\"sk-parallel-item\"><div class=\"sk-item\"><div class=\"sk-label-container\"><div class=\"sk-label sk-toggleable\"><input class=\"sk-toggleable__control sk-hidden--visually\" id=\"4233d727-7c62-4429-813c-6c0c9038ee1c\" type=\"checkbox\" ><label class=\"sk-toggleable__label\" for=\"4233d727-7c62-4429-813c-6c0c9038ee1c\">categoric</label><div class=\"sk-toggleable__content\"><pre>['subject_sex', 'type', 'arrest_made', 'citation_issued', 'warning_issued', 'outcome', 'contraband_found', 'frisk_performed', 'search_conducted', 'search_basis', 'reason_for_stop', 'vehicle_type', 'vehicle_registration_state']</pre></div></div></div><div class=\"sk-serial\"><div class=\"sk-item\"><div class=\"sk-serial\"><div class=\"sk-item\"><div class=\"sk-estimator sk-toggleable\"><input class=\"sk-toggleable__control sk-hidden--visually\" id=\"5e8319cc-662e-41d7-8116-4eb1ec68b2c8\" type=\"checkbox\" ><label class=\"sk-toggleable__label\" for=\"5e8319cc-662e-41d7-8116-4eb1ec68b2c8\">OneHotEncoder</label><div class=\"sk-toggleable__content\"><pre>OneHotEncoder(handle_unknown='ignore')</pre></div></div></div></div></div></div></div></div><div class=\"sk-parallel-item\"><div class=\"sk-item\"><div class=\"sk-label-container\"><div class=\"sk-label sk-toggleable\"><input class=\"sk-toggleable__control sk-hidden--visually\" id=\"e6cf9e9a-8573-44b3-bb90-8c397753bf51\" type=\"checkbox\" ><label class=\"sk-toggleable__label\" for=\"e6cf9e9a-8573-44b3-bb90-8c397753bf51\">text_pro0</label><div class=\"sk-toggleable__content\"><pre>location</pre></div></div></div><div class=\"sk-serial\"><div class=\"sk-item\"><div class=\"sk-serial\"><div class=\"sk-item\"><div class=\"sk-estimator sk-toggleable\"><input class=\"sk-toggleable__control sk-hidden--visually\" id=\"768e978a-bf93-4c47-a348-a338decded2b\" type=\"checkbox\" ><label class=\"sk-toggleable__label\" for=\"768e978a-bf93-4c47-a348-a338decded2b\">CountVectorizer</label><div class=\"sk-toggleable__content\"><pre>CountVectorizer(binary=True, max_features=50)</pre></div></div></div></div></div></div></div></div><div class=\"sk-parallel-item\"><div class=\"sk-item\"><div class=\"sk-label-container\"><div class=\"sk-label sk-toggleable\"><input class=\"sk-toggleable__control sk-hidden--visually\" id=\"1b809498-824c-46be-bca5-25336440e8e2\" type=\"checkbox\" ><label class=\"sk-toggleable__label\" for=\"1b809498-824c-46be-bca5-25336440e8e2\">text_pro1</label><div class=\"sk-toggleable__content\"><pre>county_name</pre></div></div></div><div class=\"sk-serial\"><div class=\"sk-item\"><div class=\"sk-serial\"><div class=\"sk-item\"><div class=\"sk-estimator sk-toggleable\"><input class=\"sk-toggleable__control sk-hidden--visually\" id=\"14a80b29-f1e6-4a3b-988d-5da5897e715c\" type=\"checkbox\" ><label class=\"sk-toggleable__label\" for=\"14a80b29-f1e6-4a3b-988d-5da5897e715c\">CountVectorizer</label><div class=\"sk-toggleable__content\"><pre>CountVectorizer(binary=True, max_features=50)</pre></div></div></div></div></div></div></div></div></div></div><div class=\"sk-item\"><div class=\"sk-estimator sk-toggleable\"><input class=\"sk-toggleable__control sk-hidden--visually\" id=\"0f171127-6d58-4142-b622-c07866d2d492\" type=\"checkbox\" ><label class=\"sk-toggleable__label\" for=\"0f171127-6d58-4142-b622-c07866d2d492\">DecisionTreeClassifier</label><div class=\"sk-toggleable__content\"><pre>DecisionTreeClassifier()</pre></div></div></div></div></div></div></div>"
      ],
      "text/plain": [
       "Pipeline(steps=[('data_preprocessing',\n",
       "                 ColumnTransformer(transformers=[('numeric',\n",
       "                                                  Pipeline(steps=[('num_scaler',\n",
       "                                                                   MinMaxScaler())]),\n",
       "                                                  ['subject_age']),\n",
       "                                                 ('categoric',\n",
       "                                                  Pipeline(steps=[('cat_encoder',\n",
       "                                                                   OneHotEncoder(handle_unknown='ignore'))]),\n",
       "                                                  ['subject_sex', 'type',\n",
       "                                                   'arrest_made',\n",
       "                                                   'citation_issued',\n",
       "                                                   'warning_issued', 'outcome',\n",
       "                                                   'contraband_found',\n",
       "                                                   'frisk_performed',\n",
       "                                                   'search_conducted',\n",
       "                                                   'search_basis',\n",
       "                                                   'reason_for_stop',\n",
       "                                                   'vehicle_type',\n",
       "                                                   'vehicle_registration_state']),\n",
       "                                                 ('text_pro0',\n",
       "                                                  Pipeline(steps=[('text_vect0',\n",
       "                                                                   CountVectorizer(binary=True,\n",
       "                                                                                   max_features=50))]),\n",
       "                                                  'location'),\n",
       "                                                 ('text_pro1',\n",
       "                                                  Pipeline(steps=[('text_vect1',\n",
       "                                                                   CountVectorizer(binary=True,\n",
       "                                                                                   max_features=50))]),\n",
       "                                                  'county_name')])),\n",
       "                ('dt', DecisionTreeClassifier())])"
      ]
     },
     "execution_count": 22,
     "metadata": {},
     "output_type": "execute_result"
    }
   ],
   "source": [
    "X_train = train_data[model_features]\n",
    "y_train = train_data[model_target]\n",
    "\n",
    "pipeline1.fit(X_train, y_train)"
   ]
  },
  {
   "cell_type": "code",
   "execution_count": 23,
   "metadata": {},
   "outputs": [
    {
     "name": "stdout",
     "output_type": "stream",
     "text": [
      "[[  5346    788    524      3  38710]\n",
      " [   523  15799   3071      0  76156]\n",
      " [   393   2081  18948      3  70561]\n",
      " [    21     61     84    456   2380]\n",
      " [  1608   5983   8165    118 670602]]\n",
      "                        precision    recall  f1-score   support\n",
      "\n",
      "asian/pacific islander       0.68      0.12      0.20     45371\n",
      "                 black       0.64      0.17      0.26     95549\n",
      "              hispanic       0.62      0.21      0.31     91986\n",
      "                 other       0.79      0.15      0.25      3002\n",
      "                 white       0.78      0.98      0.87    686476\n",
      "\n",
      "              accuracy                           0.77    922384\n",
      "             macro avg       0.70      0.32      0.38    922384\n",
      "          weighted avg       0.74      0.77      0.71    922384\n",
      "\n",
      "Accuracy Score: 0.770992341584416\n"
     ]
    }
   ],
   "source": [
    "from sklearn.metrics import confusion_matrix, classification_report, accuracy_score\n",
    "\n",
    "train_predictions = pipeline1.predict(X_train)\n",
    "\n",
    "print(confusion_matrix(y_train, train_predictions))\n",
    "print(classification_report(y_train, train_predictions))\n",
    "print('Accuracy Score:', accuracy_score(y_train, train_predictions))"
   ]
  },
  {
   "cell_type": "markdown",
   "metadata": {},
   "source": [
    "Using the training data, we obtain an acuracy of 77.09%. This is a nearly perfect score for training data. "
   ]
  },
  {
   "cell_type": "code",
   "execution_count": 24,
   "metadata": {},
   "outputs": [
    {
     "name": "stdout",
     "output_type": "stream",
     "text": [
      "[[   2056    3456    2467      71   97462]\n",
      " [   2354   13965   11050     121  195278]\n",
      " [   1880    7828   22863     121  181864]\n",
      " [     88     230     262      78    6206]\n",
      " [  13078   34474   37643    1046 1516289]]\n",
      "                        precision    recall  f1-score   support\n",
      "\n",
      "asian/pacific islander       0.11      0.02      0.03    105512\n",
      "                 black       0.23      0.06      0.10    222768\n",
      "              hispanic       0.31      0.11      0.16    214556\n",
      "                 other       0.05      0.01      0.02      6864\n",
      "                 white       0.76      0.95      0.84   1602530\n",
      "\n",
      "              accuracy                           0.72   2152230\n",
      "             macro avg       0.29      0.23      0.23   2152230\n",
      "          weighted avg       0.63      0.72      0.65   2152230\n",
      "\n",
      "Accuracy Score: 0.722623046793326\n"
     ]
    }
   ],
   "source": [
    "X_val = val_data[model_features]\n",
    "y_val = val_data[model_target]\n",
    "\n",
    "val_predictions = pipeline1.predict(X_val)\n",
    "\n",
    "print(confusion_matrix(y_val, val_predictions))\n",
    "print(classification_report(y_val, val_predictions))\n",
    "print('Accuracy Score:', accuracy_score(y_val, val_predictions))"
   ]
  },
  {
   "cell_type": "markdown",
   "metadata": {},
   "source": [
    "The accuracy for the validation is 72.25% which is a little lesser than for the training set. "
   ]
  },
  {
   "cell_type": "markdown",
   "metadata": {},
   "source": [
    "#### 5. Grid Search Cross-Validation Hyperparameter Tuning\n",
    "\n",
    "We use Grid Search to look for hyperparameter combinations to improve the accuracy on the test set (and reduce the generalization gap). As GridSearchCV does cross-validation train-validation split internally, \n",
    "our data transformers inside the Pipeline context will force the correct behavior of learning data transformations on the training set, and applying the transformations to the validation set when cross-validating, as well as on the test set later when running test predictions."
   ]
  },
  {
   "cell_type": "code",
   "execution_count": 25,
   "metadata": {},
   "outputs": [
    {
     "name": "stdout",
     "output_type": "stream",
     "text": [
      "Fitting 5 folds for each of 8 candidates, totalling 40 fits\n"
     ]
    },
    {
     "name": "stderr",
     "output_type": "stream",
     "text": [
      "[Parallel(n_jobs=-1)]: Using backend LokyBackend with 4 concurrent workers.\n",
      "[Parallel(n_jobs=-1)]: Done  40 out of  40 | elapsed: 19.7min finished\n"
     ]
    },
    {
     "data": {
      "text/html": [
       "<style>div.sk-top-container {color: black;background-color: white;}div.sk-toggleable {background-color: white;}label.sk-toggleable__label {cursor: pointer;display: block;width: 100%;margin-bottom: 0;padding: 0.2em 0.3em;box-sizing: border-box;text-align: center;}div.sk-toggleable__content {max-height: 0;max-width: 0;overflow: hidden;text-align: left;background-color: #f0f8ff;}div.sk-toggleable__content pre {margin: 0.2em;color: black;border-radius: 0.25em;background-color: #f0f8ff;}input.sk-toggleable__control:checked~div.sk-toggleable__content {max-height: 200px;max-width: 100%;overflow: auto;}div.sk-estimator input.sk-toggleable__control:checked~label.sk-toggleable__label {background-color: #d4ebff;}div.sk-label input.sk-toggleable__control:checked~label.sk-toggleable__label {background-color: #d4ebff;}input.sk-hidden--visually {border: 0;clip: rect(1px 1px 1px 1px);clip: rect(1px, 1px, 1px, 1px);height: 1px;margin: -1px;overflow: hidden;padding: 0;position: absolute;width: 1px;}div.sk-estimator {font-family: monospace;background-color: #f0f8ff;margin: 0.25em 0.25em;border: 1px dotted black;border-radius: 0.25em;box-sizing: border-box;}div.sk-estimator:hover {background-color: #d4ebff;}div.sk-parallel-item::after {content: \"\";width: 100%;border-bottom: 1px solid gray;flex-grow: 1;}div.sk-label:hover label.sk-toggleable__label {background-color: #d4ebff;}div.sk-serial::before {content: \"\";position: absolute;border-left: 1px solid gray;box-sizing: border-box;top: 2em;bottom: 0;left: 50%;}div.sk-serial {display: flex;flex-direction: column;align-items: center;background-color: white;}div.sk-item {z-index: 1;}div.sk-parallel {display: flex;align-items: stretch;justify-content: center;background-color: white;}div.sk-parallel-item {display: flex;flex-direction: column;position: relative;background-color: white;}div.sk-parallel-item:first-child::after {align-self: flex-end;width: 50%;}div.sk-parallel-item:last-child::after {align-self: flex-start;width: 50%;}div.sk-parallel-item:only-child::after {width: 0;}div.sk-dashed-wrapped {border: 1px dashed gray;margin: 0.2em;box-sizing: border-box;padding-bottom: 0.1em;background-color: white;position: relative;}div.sk-label label {font-family: monospace;font-weight: bold;background-color: white;display: inline-block;line-height: 1.2em;}div.sk-label-container {position: relative;z-index: 2;text-align: center;}div.sk-container {display: inline-block;position: relative;}</style><div class=\"sk-top-container\"><div class=\"sk-container\"><div class=\"sk-item sk-dashed-wrapped\"><div class=\"sk-label-container\"><div class=\"sk-label sk-toggleable\"><input class=\"sk-toggleable__control sk-hidden--visually\" id=\"3b40a7ab-63cf-4cc4-9aac-e6107360b6d6\" type=\"checkbox\" ><label class=\"sk-toggleable__label\" for=\"3b40a7ab-63cf-4cc4-9aac-e6107360b6d6\">GridSearchCV</label><div class=\"sk-toggleable__content\"><pre>GridSearchCV(estimator=Pipeline(steps=[('data_preprocessing',\n",
       "                                        ColumnTransformer(transformers=[('numeric',\n",
       "                                                                         Pipeline(steps=[('num_scaler',\n",
       "                                                                                          MinMaxScaler())]),\n",
       "                                                                         ['subject_age']),\n",
       "                                                                        ('categoric',\n",
       "                                                                         Pipeline(steps=[('cat_encoder',\n",
       "                                                                                          OneHotEncoder(handle_unknown='ignore'))]),\n",
       "                                                                         ['subject_sex',\n",
       "                                                                          'type',\n",
       "                                                                          'arrest_made',\n",
       "                                                                          'citation_issued',\n",
       "                                                                          'warning_issued',\n",
       "                                                                          'outcome',\n",
       "                                                                          'contraband_fo...\n",
       "                                                                         Pipeline(steps=[('text_vect0',\n",
       "                                                                                          CountVectorizer(binary=True,\n",
       "                                                                                                          max_features=50))]),\n",
       "                                                                         'location'),\n",
       "                                                                        ('text_pro1',\n",
       "                                                                         Pipeline(steps=[('text_vect1',\n",
       "                                                                                          CountVectorizer(binary=True,\n",
       "                                                                                                          max_features=50))]),\n",
       "                                                                         'county_name')])),\n",
       "                                       ('dt', DecisionTreeClassifier())]),\n",
       "             n_jobs=-1,\n",
       "             param_grid={'dt__max_depth': [10, 20],\n",
       "                         'dt__min_samples_leaf': [1, 2],\n",
       "                         'dt__min_samples_split': [10, 20]},\n",
       "             verbose=1)</pre></div></div></div><div class=\"sk-parallel\"><div class=\"sk-parallel-item\"><div class=\"sk-item\"><div class=\"sk-serial\"><div class=\"sk-item\"><div class=\"sk-serial\"><div class=\"sk-item sk-dashed-wrapped\"><div class=\"sk-label-container\"><div class=\"sk-label sk-toggleable\"><input class=\"sk-toggleable__control sk-hidden--visually\" id=\"4b850f42-0be9-40cb-ba17-994d629fbef3\" type=\"checkbox\" ><label class=\"sk-toggleable__label\" for=\"4b850f42-0be9-40cb-ba17-994d629fbef3\">data_preprocessing: ColumnTransformer</label><div class=\"sk-toggleable__content\"><pre>ColumnTransformer(transformers=[('numeric',\n",
       "                                 Pipeline(steps=[('num_scaler',\n",
       "                                                  MinMaxScaler())]),\n",
       "                                 ['subject_age']),\n",
       "                                ('categoric',\n",
       "                                 Pipeline(steps=[('cat_encoder',\n",
       "                                                  OneHotEncoder(handle_unknown='ignore'))]),\n",
       "                                 ['subject_sex', 'type', 'arrest_made',\n",
       "                                  'citation_issued', 'warning_issued',\n",
       "                                  'outcome', 'contraband_found',\n",
       "                                  'frisk_performed', 'search_conducted',\n",
       "                                  'search_basis', 'reason_for_stop',\n",
       "                                  'vehicle_type',\n",
       "                                  'vehicle_registration_state']),\n",
       "                                ('text_pro0',\n",
       "                                 Pipeline(steps=[('text_vect0',\n",
       "                                                  CountVectorizer(binary=True,\n",
       "                                                                  max_features=50))]),\n",
       "                                 'location'),\n",
       "                                ('text_pro1',\n",
       "                                 Pipeline(steps=[('text_vect1',\n",
       "                                                  CountVectorizer(binary=True,\n",
       "                                                                  max_features=50))]),\n",
       "                                 'county_name')])</pre></div></div></div><div class=\"sk-parallel\"><div class=\"sk-parallel-item\"><div class=\"sk-item\"><div class=\"sk-label-container\"><div class=\"sk-label sk-toggleable\"><input class=\"sk-toggleable__control sk-hidden--visually\" id=\"950b1645-b30c-4540-b302-130c80b0b433\" type=\"checkbox\" ><label class=\"sk-toggleable__label\" for=\"950b1645-b30c-4540-b302-130c80b0b433\">numeric</label><div class=\"sk-toggleable__content\"><pre>['subject_age']</pre></div></div></div><div class=\"sk-serial\"><div class=\"sk-item\"><div class=\"sk-serial\"><div class=\"sk-item\"><div class=\"sk-estimator sk-toggleable\"><input class=\"sk-toggleable__control sk-hidden--visually\" id=\"90099836-e941-4c95-9350-54d25c90a620\" type=\"checkbox\" ><label class=\"sk-toggleable__label\" for=\"90099836-e941-4c95-9350-54d25c90a620\">MinMaxScaler</label><div class=\"sk-toggleable__content\"><pre>MinMaxScaler()</pre></div></div></div></div></div></div></div></div><div class=\"sk-parallel-item\"><div class=\"sk-item\"><div class=\"sk-label-container\"><div class=\"sk-label sk-toggleable\"><input class=\"sk-toggleable__control sk-hidden--visually\" id=\"9688b4b9-4797-4429-85dc-c3ebbf6f8615\" type=\"checkbox\" ><label class=\"sk-toggleable__label\" for=\"9688b4b9-4797-4429-85dc-c3ebbf6f8615\">categoric</label><div class=\"sk-toggleable__content\"><pre>['subject_sex', 'type', 'arrest_made', 'citation_issued', 'warning_issued', 'outcome', 'contraband_found', 'frisk_performed', 'search_conducted', 'search_basis', 'reason_for_stop', 'vehicle_type', 'vehicle_registration_state']</pre></div></div></div><div class=\"sk-serial\"><div class=\"sk-item\"><div class=\"sk-serial\"><div class=\"sk-item\"><div class=\"sk-estimator sk-toggleable\"><input class=\"sk-toggleable__control sk-hidden--visually\" id=\"63ebd5f3-3362-49f4-a885-6c728a205d51\" type=\"checkbox\" ><label class=\"sk-toggleable__label\" for=\"63ebd5f3-3362-49f4-a885-6c728a205d51\">OneHotEncoder</label><div class=\"sk-toggleable__content\"><pre>OneHotEncoder(handle_unknown='ignore')</pre></div></div></div></div></div></div></div></div><div class=\"sk-parallel-item\"><div class=\"sk-item\"><div class=\"sk-label-container\"><div class=\"sk-label sk-toggleable\"><input class=\"sk-toggleable__control sk-hidden--visually\" id=\"980c9ee7-16b3-4312-9e93-08edc534b2c7\" type=\"checkbox\" ><label class=\"sk-toggleable__label\" for=\"980c9ee7-16b3-4312-9e93-08edc534b2c7\">text_pro0</label><div class=\"sk-toggleable__content\"><pre>location</pre></div></div></div><div class=\"sk-serial\"><div class=\"sk-item\"><div class=\"sk-serial\"><div class=\"sk-item\"><div class=\"sk-estimator sk-toggleable\"><input class=\"sk-toggleable__control sk-hidden--visually\" id=\"738422fc-819c-45ba-b49b-5c435c9b12db\" type=\"checkbox\" ><label class=\"sk-toggleable__label\" for=\"738422fc-819c-45ba-b49b-5c435c9b12db\">CountVectorizer</label><div class=\"sk-toggleable__content\"><pre>CountVectorizer(binary=True, max_features=50)</pre></div></div></div></div></div></div></div></div><div class=\"sk-parallel-item\"><div class=\"sk-item\"><div class=\"sk-label-container\"><div class=\"sk-label sk-toggleable\"><input class=\"sk-toggleable__control sk-hidden--visually\" id=\"2624d98b-9c8e-45e6-ac7e-120bff45a650\" type=\"checkbox\" ><label class=\"sk-toggleable__label\" for=\"2624d98b-9c8e-45e6-ac7e-120bff45a650\">text_pro1</label><div class=\"sk-toggleable__content\"><pre>county_name</pre></div></div></div><div class=\"sk-serial\"><div class=\"sk-item\"><div class=\"sk-serial\"><div class=\"sk-item\"><div class=\"sk-estimator sk-toggleable\"><input class=\"sk-toggleable__control sk-hidden--visually\" id=\"066a204c-e922-4116-92e2-d184b3263bb3\" type=\"checkbox\" ><label class=\"sk-toggleable__label\" for=\"066a204c-e922-4116-92e2-d184b3263bb3\">CountVectorizer</label><div class=\"sk-toggleable__content\"><pre>CountVectorizer(binary=True, max_features=50)</pre></div></div></div></div></div></div></div></div></div></div><div class=\"sk-item\"><div class=\"sk-estimator sk-toggleable\"><input class=\"sk-toggleable__control sk-hidden--visually\" id=\"0db2941a-575b-4e93-8ee1-b286337f8ab2\" type=\"checkbox\" ><label class=\"sk-toggleable__label\" for=\"0db2941a-575b-4e93-8ee1-b286337f8ab2\">DecisionTreeClassifier</label><div class=\"sk-toggleable__content\"><pre>DecisionTreeClassifier()</pre></div></div></div></div></div></div></div></div></div></div></div></div>"
      ],
      "text/plain": [
       "GridSearchCV(estimator=Pipeline(steps=[('data_preprocessing',\n",
       "                                        ColumnTransformer(transformers=[('numeric',\n",
       "                                                                         Pipeline(steps=[('num_scaler',\n",
       "                                                                                          MinMaxScaler())]),\n",
       "                                                                         ['subject_age']),\n",
       "                                                                        ('categoric',\n",
       "                                                                         Pipeline(steps=[('cat_encoder',\n",
       "                                                                                          OneHotEncoder(handle_unknown='ignore'))]),\n",
       "                                                                         ['subject_sex',\n",
       "                                                                          'type',\n",
       "                                                                          'arrest_made',\n",
       "                                                                          'citation_issued',\n",
       "                                                                          'warning_issued',\n",
       "                                                                          'outcome',\n",
       "                                                                          'contraband_fo...\n",
       "                                                                         Pipeline(steps=[('text_vect0',\n",
       "                                                                                          CountVectorizer(binary=True,\n",
       "                                                                                                          max_features=50))]),\n",
       "                                                                         'location'),\n",
       "                                                                        ('text_pro1',\n",
       "                                                                         Pipeline(steps=[('text_vect1',\n",
       "                                                                                          CountVectorizer(binary=True,\n",
       "                                                                                                          max_features=50))]),\n",
       "                                                                         'county_name')])),\n",
       "                                       ('dt', DecisionTreeClassifier())]),\n",
       "             n_jobs=-1,\n",
       "             param_grid={'dt__max_depth': [10, 20],\n",
       "                         'dt__min_samples_leaf': [1, 2],\n",
       "                         'dt__min_samples_split': [10, 20]},\n",
       "             verbose=1)"
      ]
     },
     "execution_count": 25,
     "metadata": {},
     "output_type": "execute_result"
    }
   ],
   "source": [
    "from sklearn.model_selection import GridSearchCV, RandomizedSearchCV\n",
    "\n",
    "# param_grid = {'dt__max_depth': [10, 20, 30],\n",
    "#               'dt__min_samples_leaf':[1, 2, 5],\n",
    "#               'dt__min_samples_split':[10, 20, 30]\n",
    "#              }\n",
    "\n",
    "param_grid = {'dt__max_depth': [10, 20],\n",
    "              'dt__min_samples_leaf':[1, 2],\n",
    "              'dt__min_samples_split':[10, 20]\n",
    "             }\n",
    "\n",
    "grid_search = GridSearchCV(pipeline1, \n",
    "                           param_grid,\n",
    "#                            cv = 5,\n",
    "                           verbose = 1,\n",
    "                           n_jobs = -1)\n",
    "\n",
    "grid_search.fit(X_train, y_train)"
   ]
  },
  {
   "cell_type": "code",
   "execution_count": 26,
   "metadata": {},
   "outputs": [
    {
     "data": {
      "text/plain": [
       "dict_keys(['cv', 'error_score', 'estimator__memory', 'estimator__steps', 'estimator__verbose', 'estimator__data_preprocessing', 'estimator__dt', 'estimator__data_preprocessing__n_jobs', 'estimator__data_preprocessing__remainder', 'estimator__data_preprocessing__sparse_threshold', 'estimator__data_preprocessing__transformer_weights', 'estimator__data_preprocessing__transformers', 'estimator__data_preprocessing__verbose', 'estimator__data_preprocessing__numeric', 'estimator__data_preprocessing__categoric', 'estimator__data_preprocessing__text_pro0', 'estimator__data_preprocessing__text_pro1', 'estimator__data_preprocessing__numeric__memory', 'estimator__data_preprocessing__numeric__steps', 'estimator__data_preprocessing__numeric__verbose', 'estimator__data_preprocessing__numeric__num_scaler', 'estimator__data_preprocessing__numeric__num_scaler__copy', 'estimator__data_preprocessing__numeric__num_scaler__feature_range', 'estimator__data_preprocessing__categoric__memory', 'estimator__data_preprocessing__categoric__steps', 'estimator__data_preprocessing__categoric__verbose', 'estimator__data_preprocessing__categoric__cat_encoder', 'estimator__data_preprocessing__categoric__cat_encoder__categories', 'estimator__data_preprocessing__categoric__cat_encoder__drop', 'estimator__data_preprocessing__categoric__cat_encoder__dtype', 'estimator__data_preprocessing__categoric__cat_encoder__handle_unknown', 'estimator__data_preprocessing__categoric__cat_encoder__sparse', 'estimator__data_preprocessing__text_pro0__memory', 'estimator__data_preprocessing__text_pro0__steps', 'estimator__data_preprocessing__text_pro0__verbose', 'estimator__data_preprocessing__text_pro0__text_vect0', 'estimator__data_preprocessing__text_pro0__text_vect0__analyzer', 'estimator__data_preprocessing__text_pro0__text_vect0__binary', 'estimator__data_preprocessing__text_pro0__text_vect0__decode_error', 'estimator__data_preprocessing__text_pro0__text_vect0__dtype', 'estimator__data_preprocessing__text_pro0__text_vect0__encoding', 'estimator__data_preprocessing__text_pro0__text_vect0__input', 'estimator__data_preprocessing__text_pro0__text_vect0__lowercase', 'estimator__data_preprocessing__text_pro0__text_vect0__max_df', 'estimator__data_preprocessing__text_pro0__text_vect0__max_features', 'estimator__data_preprocessing__text_pro0__text_vect0__min_df', 'estimator__data_preprocessing__text_pro0__text_vect0__ngram_range', 'estimator__data_preprocessing__text_pro0__text_vect0__preprocessor', 'estimator__data_preprocessing__text_pro0__text_vect0__stop_words', 'estimator__data_preprocessing__text_pro0__text_vect0__strip_accents', 'estimator__data_preprocessing__text_pro0__text_vect0__token_pattern', 'estimator__data_preprocessing__text_pro0__text_vect0__tokenizer', 'estimator__data_preprocessing__text_pro0__text_vect0__vocabulary', 'estimator__data_preprocessing__text_pro1__memory', 'estimator__data_preprocessing__text_pro1__steps', 'estimator__data_preprocessing__text_pro1__verbose', 'estimator__data_preprocessing__text_pro1__text_vect1', 'estimator__data_preprocessing__text_pro1__text_vect1__analyzer', 'estimator__data_preprocessing__text_pro1__text_vect1__binary', 'estimator__data_preprocessing__text_pro1__text_vect1__decode_error', 'estimator__data_preprocessing__text_pro1__text_vect1__dtype', 'estimator__data_preprocessing__text_pro1__text_vect1__encoding', 'estimator__data_preprocessing__text_pro1__text_vect1__input', 'estimator__data_preprocessing__text_pro1__text_vect1__lowercase', 'estimator__data_preprocessing__text_pro1__text_vect1__max_df', 'estimator__data_preprocessing__text_pro1__text_vect1__max_features', 'estimator__data_preprocessing__text_pro1__text_vect1__min_df', 'estimator__data_preprocessing__text_pro1__text_vect1__ngram_range', 'estimator__data_preprocessing__text_pro1__text_vect1__preprocessor', 'estimator__data_preprocessing__text_pro1__text_vect1__stop_words', 'estimator__data_preprocessing__text_pro1__text_vect1__strip_accents', 'estimator__data_preprocessing__text_pro1__text_vect1__token_pattern', 'estimator__data_preprocessing__text_pro1__text_vect1__tokenizer', 'estimator__data_preprocessing__text_pro1__text_vect1__vocabulary', 'estimator__dt__ccp_alpha', 'estimator__dt__class_weight', 'estimator__dt__criterion', 'estimator__dt__max_depth', 'estimator__dt__max_features', 'estimator__dt__max_leaf_nodes', 'estimator__dt__min_impurity_decrease', 'estimator__dt__min_impurity_split', 'estimator__dt__min_samples_leaf', 'estimator__dt__min_samples_split', 'estimator__dt__min_weight_fraction_leaf', 'estimator__dt__presort', 'estimator__dt__random_state', 'estimator__dt__splitter', 'estimator', 'iid', 'n_jobs', 'param_grid', 'pre_dispatch', 'refit', 'return_train_score', 'scoring', 'verbose'])"
      ]
     },
     "execution_count": 26,
     "metadata": {},
     "output_type": "execute_result"
    }
   ],
   "source": [
    "grid_search.get_params().keys()"
   ]
  },
  {
   "cell_type": "markdown",
   "metadata": {},
   "source": [
    "Using the get_params(), we can infer the type of parameters that are using in our hyperparameter tuning."
   ]
  },
  {
   "cell_type": "markdown",
   "metadata": {},
   "source": [
    "### Function to report best scores"
   ]
  },
  {
   "cell_type": "code",
   "execution_count": 29,
   "metadata": {},
   "outputs": [],
   "source": [
    "def report(results, n_top=3):\n",
    "    for i in range(1, n_top + 1):\n",
    "        candidates = np.flatnonzero(results['rank_test_score'] == i)\n",
    "        for candidate in candidates:\n",
    "            print(\"Model with rank: {0}\".format(i))\n",
    "            print(\"Mean validation score: {0:.3f} (std: {1:.3f})\"\n",
    "                  .format(results['mean_test_score'][candidate],\n",
    "                          results['std_test_score'][candidate]))\n",
    "            print(\"Parameters: {0}\".format(results['params'][candidate]))\n",
    "            print(\"\")"
   ]
  },
  {
   "cell_type": "code",
   "execution_count": 30,
   "metadata": {},
   "outputs": [
    {
     "name": "stdout",
     "output_type": "stream",
     "text": [
      "Model with rank: 1\n",
      "Mean validation score: 0.746 (std: 0.000)\n",
      "Parameters: {'dt__max_depth': 10, 'dt__min_samples_leaf': 2, 'dt__min_samples_split': 20}\n",
      "\n",
      "Model with rank: 2\n",
      "Mean validation score: 0.746 (std: 0.000)\n",
      "Parameters: {'dt__max_depth': 10, 'dt__min_samples_leaf': 1, 'dt__min_samples_split': 20}\n",
      "\n",
      "Model with rank: 3\n",
      "Mean validation score: 0.746 (std: 0.000)\n",
      "Parameters: {'dt__max_depth': 10, 'dt__min_samples_leaf': 1, 'dt__min_samples_split': 10}\n",
      "\n",
      "{'dt__max_depth': 10, 'dt__min_samples_leaf': 2, 'dt__min_samples_split': 20}\n",
      "0.7458715678697917\n"
     ]
    },
    {
     "data": {
      "text/html": [
       "<style>div.sk-top-container {color: black;background-color: white;}div.sk-toggleable {background-color: white;}label.sk-toggleable__label {cursor: pointer;display: block;width: 100%;margin-bottom: 0;padding: 0.2em 0.3em;box-sizing: border-box;text-align: center;}div.sk-toggleable__content {max-height: 0;max-width: 0;overflow: hidden;text-align: left;background-color: #f0f8ff;}div.sk-toggleable__content pre {margin: 0.2em;color: black;border-radius: 0.25em;background-color: #f0f8ff;}input.sk-toggleable__control:checked~div.sk-toggleable__content {max-height: 200px;max-width: 100%;overflow: auto;}div.sk-estimator input.sk-toggleable__control:checked~label.sk-toggleable__label {background-color: #d4ebff;}div.sk-label input.sk-toggleable__control:checked~label.sk-toggleable__label {background-color: #d4ebff;}input.sk-hidden--visually {border: 0;clip: rect(1px 1px 1px 1px);clip: rect(1px, 1px, 1px, 1px);height: 1px;margin: -1px;overflow: hidden;padding: 0;position: absolute;width: 1px;}div.sk-estimator {font-family: monospace;background-color: #f0f8ff;margin: 0.25em 0.25em;border: 1px dotted black;border-radius: 0.25em;box-sizing: border-box;}div.sk-estimator:hover {background-color: #d4ebff;}div.sk-parallel-item::after {content: \"\";width: 100%;border-bottom: 1px solid gray;flex-grow: 1;}div.sk-label:hover label.sk-toggleable__label {background-color: #d4ebff;}div.sk-serial::before {content: \"\";position: absolute;border-left: 1px solid gray;box-sizing: border-box;top: 2em;bottom: 0;left: 50%;}div.sk-serial {display: flex;flex-direction: column;align-items: center;background-color: white;}div.sk-item {z-index: 1;}div.sk-parallel {display: flex;align-items: stretch;justify-content: center;background-color: white;}div.sk-parallel-item {display: flex;flex-direction: column;position: relative;background-color: white;}div.sk-parallel-item:first-child::after {align-self: flex-end;width: 50%;}div.sk-parallel-item:last-child::after {align-self: flex-start;width: 50%;}div.sk-parallel-item:only-child::after {width: 0;}div.sk-dashed-wrapped {border: 1px dashed gray;margin: 0.2em;box-sizing: border-box;padding-bottom: 0.1em;background-color: white;position: relative;}div.sk-label label {font-family: monospace;font-weight: bold;background-color: white;display: inline-block;line-height: 1.2em;}div.sk-label-container {position: relative;z-index: 2;text-align: center;}div.sk-container {display: inline-block;position: relative;}</style><div class=\"sk-top-container\"><div class=\"sk-container\"><div class=\"sk-item sk-dashed-wrapped\"><div class=\"sk-label-container\"><div class=\"sk-label sk-toggleable\"><input class=\"sk-toggleable__control sk-hidden--visually\" id=\"7696bc86-0677-465c-825f-47386fdb2a9b\" type=\"checkbox\" ><label class=\"sk-toggleable__label\" for=\"7696bc86-0677-465c-825f-47386fdb2a9b\">Pipeline</label><div class=\"sk-toggleable__content\"><pre>Pipeline(steps=[('data_preprocessing',\n",
       "                 ColumnTransformer(transformers=[('numeric',\n",
       "                                                  Pipeline(steps=[('num_scaler',\n",
       "                                                                   MinMaxScaler())]),\n",
       "                                                  ['subject_age']),\n",
       "                                                 ('categoric',\n",
       "                                                  Pipeline(steps=[('cat_encoder',\n",
       "                                                                   OneHotEncoder(handle_unknown='ignore'))]),\n",
       "                                                  ['subject_sex', 'type',\n",
       "                                                   'arrest_made',\n",
       "                                                   'citation_issued',\n",
       "                                                   'warning_issued', 'outcome',\n",
       "                                                   'contraband_found',\n",
       "                                                   'frisk_performed',...\n",
       "                                                   'reason_for_stop',\n",
       "                                                   'vehicle_type',\n",
       "                                                   'vehicle_registration_state']),\n",
       "                                                 ('text_pro0',\n",
       "                                                  Pipeline(steps=[('text_vect0',\n",
       "                                                                   CountVectorizer(binary=True,\n",
       "                                                                                   max_features=50))]),\n",
       "                                                  'location'),\n",
       "                                                 ('text_pro1',\n",
       "                                                  Pipeline(steps=[('text_vect1',\n",
       "                                                                   CountVectorizer(binary=True,\n",
       "                                                                                   max_features=50))]),\n",
       "                                                  'county_name')])),\n",
       "                ('dt',\n",
       "                 DecisionTreeClassifier(max_depth=10, min_samples_leaf=2,\n",
       "                                        min_samples_split=20))])</pre></div></div></div><div class=\"sk-serial\"><div class=\"sk-item sk-dashed-wrapped\"><div class=\"sk-label-container\"><div class=\"sk-label sk-toggleable\"><input class=\"sk-toggleable__control sk-hidden--visually\" id=\"d78cbc2c-0e6c-4c57-9497-4f39e1fcf48a\" type=\"checkbox\" ><label class=\"sk-toggleable__label\" for=\"d78cbc2c-0e6c-4c57-9497-4f39e1fcf48a\">data_preprocessing: ColumnTransformer</label><div class=\"sk-toggleable__content\"><pre>ColumnTransformer(transformers=[('numeric',\n",
       "                                 Pipeline(steps=[('num_scaler',\n",
       "                                                  MinMaxScaler())]),\n",
       "                                 ['subject_age']),\n",
       "                                ('categoric',\n",
       "                                 Pipeline(steps=[('cat_encoder',\n",
       "                                                  OneHotEncoder(handle_unknown='ignore'))]),\n",
       "                                 ['subject_sex', 'type', 'arrest_made',\n",
       "                                  'citation_issued', 'warning_issued',\n",
       "                                  'outcome', 'contraband_found',\n",
       "                                  'frisk_performed', 'search_conducted',\n",
       "                                  'search_basis', 'reason_for_stop',\n",
       "                                  'vehicle_type',\n",
       "                                  'vehicle_registration_state']),\n",
       "                                ('text_pro0',\n",
       "                                 Pipeline(steps=[('text_vect0',\n",
       "                                                  CountVectorizer(binary=True,\n",
       "                                                                  max_features=50))]),\n",
       "                                 'location'),\n",
       "                                ('text_pro1',\n",
       "                                 Pipeline(steps=[('text_vect1',\n",
       "                                                  CountVectorizer(binary=True,\n",
       "                                                                  max_features=50))]),\n",
       "                                 'county_name')])</pre></div></div></div><div class=\"sk-parallel\"><div class=\"sk-parallel-item\"><div class=\"sk-item\"><div class=\"sk-label-container\"><div class=\"sk-label sk-toggleable\"><input class=\"sk-toggleable__control sk-hidden--visually\" id=\"b6add6f8-2f89-4178-aa2c-26331964ab86\" type=\"checkbox\" ><label class=\"sk-toggleable__label\" for=\"b6add6f8-2f89-4178-aa2c-26331964ab86\">numeric</label><div class=\"sk-toggleable__content\"><pre>['subject_age']</pre></div></div></div><div class=\"sk-serial\"><div class=\"sk-item\"><div class=\"sk-serial\"><div class=\"sk-item\"><div class=\"sk-estimator sk-toggleable\"><input class=\"sk-toggleable__control sk-hidden--visually\" id=\"e3a0d7aa-5d4f-4842-b263-532a716147a5\" type=\"checkbox\" ><label class=\"sk-toggleable__label\" for=\"e3a0d7aa-5d4f-4842-b263-532a716147a5\">MinMaxScaler</label><div class=\"sk-toggleable__content\"><pre>MinMaxScaler()</pre></div></div></div></div></div></div></div></div><div class=\"sk-parallel-item\"><div class=\"sk-item\"><div class=\"sk-label-container\"><div class=\"sk-label sk-toggleable\"><input class=\"sk-toggleable__control sk-hidden--visually\" id=\"af219151-251e-4aa8-9490-f327346a8cb7\" type=\"checkbox\" ><label class=\"sk-toggleable__label\" for=\"af219151-251e-4aa8-9490-f327346a8cb7\">categoric</label><div class=\"sk-toggleable__content\"><pre>['subject_sex', 'type', 'arrest_made', 'citation_issued', 'warning_issued', 'outcome', 'contraband_found', 'frisk_performed', 'search_conducted', 'search_basis', 'reason_for_stop', 'vehicle_type', 'vehicle_registration_state']</pre></div></div></div><div class=\"sk-serial\"><div class=\"sk-item\"><div class=\"sk-serial\"><div class=\"sk-item\"><div class=\"sk-estimator sk-toggleable\"><input class=\"sk-toggleable__control sk-hidden--visually\" id=\"30e3bd2e-734e-4a59-bcc5-c8c0322bf87e\" type=\"checkbox\" ><label class=\"sk-toggleable__label\" for=\"30e3bd2e-734e-4a59-bcc5-c8c0322bf87e\">OneHotEncoder</label><div class=\"sk-toggleable__content\"><pre>OneHotEncoder(handle_unknown='ignore')</pre></div></div></div></div></div></div></div></div><div class=\"sk-parallel-item\"><div class=\"sk-item\"><div class=\"sk-label-container\"><div class=\"sk-label sk-toggleable\"><input class=\"sk-toggleable__control sk-hidden--visually\" id=\"ad8f42a2-b7fa-45d2-9851-a66d22baa0ee\" type=\"checkbox\" ><label class=\"sk-toggleable__label\" for=\"ad8f42a2-b7fa-45d2-9851-a66d22baa0ee\">text_pro0</label><div class=\"sk-toggleable__content\"><pre>location</pre></div></div></div><div class=\"sk-serial\"><div class=\"sk-item\"><div class=\"sk-serial\"><div class=\"sk-item\"><div class=\"sk-estimator sk-toggleable\"><input class=\"sk-toggleable__control sk-hidden--visually\" id=\"b3eb3493-935d-4bfd-9171-7a2b3ec0f2d6\" type=\"checkbox\" ><label class=\"sk-toggleable__label\" for=\"b3eb3493-935d-4bfd-9171-7a2b3ec0f2d6\">CountVectorizer</label><div class=\"sk-toggleable__content\"><pre>CountVectorizer(binary=True, max_features=50)</pre></div></div></div></div></div></div></div></div><div class=\"sk-parallel-item\"><div class=\"sk-item\"><div class=\"sk-label-container\"><div class=\"sk-label sk-toggleable\"><input class=\"sk-toggleable__control sk-hidden--visually\" id=\"0d864a23-fa5d-45e1-97c3-ff12d021754f\" type=\"checkbox\" ><label class=\"sk-toggleable__label\" for=\"0d864a23-fa5d-45e1-97c3-ff12d021754f\">text_pro1</label><div class=\"sk-toggleable__content\"><pre>county_name</pre></div></div></div><div class=\"sk-serial\"><div class=\"sk-item\"><div class=\"sk-serial\"><div class=\"sk-item\"><div class=\"sk-estimator sk-toggleable\"><input class=\"sk-toggleable__control sk-hidden--visually\" id=\"74eb63e7-f9e4-4cec-bef8-9c6259df3d3e\" type=\"checkbox\" ><label class=\"sk-toggleable__label\" for=\"74eb63e7-f9e4-4cec-bef8-9c6259df3d3e\">CountVectorizer</label><div class=\"sk-toggleable__content\"><pre>CountVectorizer(binary=True, max_features=50)</pre></div></div></div></div></div></div></div></div></div></div><div class=\"sk-item\"><div class=\"sk-estimator sk-toggleable\"><input class=\"sk-toggleable__control sk-hidden--visually\" id=\"9bd2e071-919a-47d5-84c4-04f799c7aaa2\" type=\"checkbox\" ><label class=\"sk-toggleable__label\" for=\"9bd2e071-919a-47d5-84c4-04f799c7aaa2\">DecisionTreeClassifier</label><div class=\"sk-toggleable__content\"><pre>DecisionTreeClassifier(max_depth=10, min_samples_leaf=2, min_samples_split=20)</pre></div></div></div></div></div></div></div>"
      ],
      "text/plain": [
       "Pipeline(steps=[('data_preprocessing',\n",
       "                 ColumnTransformer(transformers=[('numeric',\n",
       "                                                  Pipeline(steps=[('num_scaler',\n",
       "                                                                   MinMaxScaler())]),\n",
       "                                                  ['subject_age']),\n",
       "                                                 ('categoric',\n",
       "                                                  Pipeline(steps=[('cat_encoder',\n",
       "                                                                   OneHotEncoder(handle_unknown='ignore'))]),\n",
       "                                                  ['subject_sex', 'type',\n",
       "                                                   'arrest_made',\n",
       "                                                   'citation_issued',\n",
       "                                                   'warning_issued', 'outcome',\n",
       "                                                   'contraband_found',\n",
       "                                                   'frisk_performed',...\n",
       "                                                   'reason_for_stop',\n",
       "                                                   'vehicle_type',\n",
       "                                                   'vehicle_registration_state']),\n",
       "                                                 ('text_pro0',\n",
       "                                                  Pipeline(steps=[('text_vect0',\n",
       "                                                                   CountVectorizer(binary=True,\n",
       "                                                                                   max_features=50))]),\n",
       "                                                  'location'),\n",
       "                                                 ('text_pro1',\n",
       "                                                  Pipeline(steps=[('text_vect1',\n",
       "                                                                   CountVectorizer(binary=True,\n",
       "                                                                                   max_features=50))]),\n",
       "                                                  'county_name')])),\n",
       "                ('dt',\n",
       "                 DecisionTreeClassifier(max_depth=10, min_samples_leaf=2,\n",
       "                                        min_samples_split=20))])"
      ]
     },
     "execution_count": 30,
     "metadata": {},
     "output_type": "execute_result"
    }
   ],
   "source": [
    "report(grid_search.cv_results_)\n",
    "print(grid_search.best_params_)\n",
    "print(grid_search.best_score_)\n",
    "\n",
    "classifier1 = grid_search.best_estimator_\n",
    "\n",
    "classifier1.fit(X_train, y_train)"
   ]
  },
  {
   "cell_type": "markdown",
   "metadata": {},
   "source": [
    "With the best_estimator_, we can use the best set of parameters the grid-search has tuned to fit them to the classifier which will be used to fetch predictions over the test dataset."
   ]
  },
  {
   "cell_type": "code",
   "execution_count": 31,
   "metadata": {},
   "outputs": [],
   "source": [
    "X_test = test_data[model_features]\n",
    "y_test = test_data[model_target]"
   ]
  },
  {
   "cell_type": "code",
   "execution_count": 32,
   "metadata": {},
   "outputs": [
    {
     "name": "stdout",
     "output_type": "stream",
     "text": [
      "[[    10    255     80      0  16507]\n",
      " [    16   1094    954      0  33167]\n",
      " [     6    314   2018      0  31391]\n",
      " [     0     12     12      0   1182]\n",
      " [    13   1031   1582      0 251980]]\n"
     ]
    },
    {
     "name": "stderr",
     "output_type": "stream",
     "text": [
      "C:\\Users\\SwetaMankala\\Anaconda3\\lib\\site-packages\\sklearn\\metrics\\_classification.py:1221: UndefinedMetricWarning: Precision and F-score are ill-defined and being set to 0.0 in labels with no predicted samples. Use `zero_division` parameter to control this behavior.\n",
      "  _warn_prf(average, modifier, msg_start, len(result))\n"
     ]
    },
    {
     "name": "stdout",
     "output_type": "stream",
     "text": [
      "                        precision    recall  f1-score   support\n",
      "\n",
      "asian/pacific islander       0.22      0.00      0.00     16852\n",
      "                 black       0.40      0.03      0.06     35231\n",
      "              hispanic       0.43      0.06      0.11     33729\n",
      "                 other       0.00      0.00      0.00      1206\n",
      "                 white       0.75      0.99      0.86    254606\n",
      "\n",
      "              accuracy                           0.75    341624\n",
      "             macro avg       0.36      0.22      0.20    341624\n",
      "          weighted avg       0.66      0.75      0.65    341624\n",
      "\n",
      "Accuracy Score: 0.7467332505912934\n"
     ]
    }
   ],
   "source": [
    "test_predictions = classifier1.predict(X_test)\n",
    "\n",
    "print(confusion_matrix(y_test, test_predictions))\n",
    "print(classification_report(y_test, test_predictions))\n",
    "print('Accuracy Score:', accuracy_score(y_test, test_predictions))"
   ]
  },
  {
   "cell_type": "markdown",
   "metadata": {},
   "source": [
    "### Data Pipeline with Random Forests\n",
    "\n",
    "#### 5. Random Forest Classifier with Data Pipeline\n",
    "\n",
    "The data pipeline is implemented with the same method used before but we use the Random Forest classifier instead."
   ]
  },
  {
   "cell_type": "code",
   "execution_count": 33,
   "metadata": {},
   "outputs": [
    {
     "data": {
      "text/html": [
       "<style>div.sk-top-container {color: black;background-color: white;}div.sk-toggleable {background-color: white;}label.sk-toggleable__label {cursor: pointer;display: block;width: 100%;margin-bottom: 0;padding: 0.2em 0.3em;box-sizing: border-box;text-align: center;}div.sk-toggleable__content {max-height: 0;max-width: 0;overflow: hidden;text-align: left;background-color: #f0f8ff;}div.sk-toggleable__content pre {margin: 0.2em;color: black;border-radius: 0.25em;background-color: #f0f8ff;}input.sk-toggleable__control:checked~div.sk-toggleable__content {max-height: 200px;max-width: 100%;overflow: auto;}div.sk-estimator input.sk-toggleable__control:checked~label.sk-toggleable__label {background-color: #d4ebff;}div.sk-label input.sk-toggleable__control:checked~label.sk-toggleable__label {background-color: #d4ebff;}input.sk-hidden--visually {border: 0;clip: rect(1px 1px 1px 1px);clip: rect(1px, 1px, 1px, 1px);height: 1px;margin: -1px;overflow: hidden;padding: 0;position: absolute;width: 1px;}div.sk-estimator {font-family: monospace;background-color: #f0f8ff;margin: 0.25em 0.25em;border: 1px dotted black;border-radius: 0.25em;box-sizing: border-box;}div.sk-estimator:hover {background-color: #d4ebff;}div.sk-parallel-item::after {content: \"\";width: 100%;border-bottom: 1px solid gray;flex-grow: 1;}div.sk-label:hover label.sk-toggleable__label {background-color: #d4ebff;}div.sk-serial::before {content: \"\";position: absolute;border-left: 1px solid gray;box-sizing: border-box;top: 2em;bottom: 0;left: 50%;}div.sk-serial {display: flex;flex-direction: column;align-items: center;background-color: white;}div.sk-item {z-index: 1;}div.sk-parallel {display: flex;align-items: stretch;justify-content: center;background-color: white;}div.sk-parallel-item {display: flex;flex-direction: column;position: relative;background-color: white;}div.sk-parallel-item:first-child::after {align-self: flex-end;width: 50%;}div.sk-parallel-item:last-child::after {align-self: flex-start;width: 50%;}div.sk-parallel-item:only-child::after {width: 0;}div.sk-dashed-wrapped {border: 1px dashed gray;margin: 0.2em;box-sizing: border-box;padding-bottom: 0.1em;background-color: white;position: relative;}div.sk-label label {font-family: monospace;font-weight: bold;background-color: white;display: inline-block;line-height: 1.2em;}div.sk-label-container {position: relative;z-index: 2;text-align: center;}div.sk-container {display: inline-block;position: relative;}</style><div class=\"sk-top-container\"><div class=\"sk-container\"><div class=\"sk-item sk-dashed-wrapped\"><div class=\"sk-label-container\"><div class=\"sk-label sk-toggleable\"><input class=\"sk-toggleable__control sk-hidden--visually\" id=\"794c3842-e252-4212-b22b-bf0f865f2c84\" type=\"checkbox\" ><label class=\"sk-toggleable__label\" for=\"794c3842-e252-4212-b22b-bf0f865f2c84\">Pipeline</label><div class=\"sk-toggleable__content\"><pre>Pipeline(steps=[('data_preprocessing',\n",
       "                 ColumnTransformer(transformers=[('numeric',\n",
       "                                                  Pipeline(steps=[('num_scaler',\n",
       "                                                                   MinMaxScaler())]),\n",
       "                                                  ['subject_age']),\n",
       "                                                 ('categoric',\n",
       "                                                  Pipeline(steps=[('cat_encoder',\n",
       "                                                                   OneHotEncoder(handle_unknown='ignore'))]),\n",
       "                                                  ['subject_sex', 'type',\n",
       "                                                   'arrest_made',\n",
       "                                                   'citation_issued',\n",
       "                                                   'warning_issued', 'outcome',\n",
       "                                                   'contraband_found',\n",
       "                                                   'frisk_performed',\n",
       "                                                   'search_conducted',\n",
       "                                                   'search_basis',\n",
       "                                                   'reason_for_stop',\n",
       "                                                   'vehicle_type',\n",
       "                                                   'vehicle_registration_state']),\n",
       "                                                 ('text_pro0',\n",
       "                                                  Pipeline(steps=[('text_vect0',\n",
       "                                                                   CountVectorizer(binary=True,\n",
       "                                                                                   max_features=50))]),\n",
       "                                                  'location'),\n",
       "                                                 ('text_pro1',\n",
       "                                                  Pipeline(steps=[('text_vect1',\n",
       "                                                                   CountVectorizer(binary=True,\n",
       "                                                                                   max_features=50))]),\n",
       "                                                  'county_name')])),\n",
       "                ('rf', RandomForestClassifier())])</pre></div></div></div><div class=\"sk-serial\"><div class=\"sk-item sk-dashed-wrapped\"><div class=\"sk-label-container\"><div class=\"sk-label sk-toggleable\"><input class=\"sk-toggleable__control sk-hidden--visually\" id=\"3b688e9f-5542-43b3-853a-08e5ddf9f088\" type=\"checkbox\" ><label class=\"sk-toggleable__label\" for=\"3b688e9f-5542-43b3-853a-08e5ddf9f088\">data_preprocessing: ColumnTransformer</label><div class=\"sk-toggleable__content\"><pre>ColumnTransformer(transformers=[('numeric',\n",
       "                                 Pipeline(steps=[('num_scaler',\n",
       "                                                  MinMaxScaler())]),\n",
       "                                 ['subject_age']),\n",
       "                                ('categoric',\n",
       "                                 Pipeline(steps=[('cat_encoder',\n",
       "                                                  OneHotEncoder(handle_unknown='ignore'))]),\n",
       "                                 ['subject_sex', 'type', 'arrest_made',\n",
       "                                  'citation_issued', 'warning_issued',\n",
       "                                  'outcome', 'contraband_found',\n",
       "                                  'frisk_performed', 'search_conducted',\n",
       "                                  'search_basis', 'reason_for_stop',\n",
       "                                  'vehicle_type',\n",
       "                                  'vehicle_registration_state']),\n",
       "                                ('text_pro0',\n",
       "                                 Pipeline(steps=[('text_vect0',\n",
       "                                                  CountVectorizer(binary=True,\n",
       "                                                                  max_features=50))]),\n",
       "                                 'location'),\n",
       "                                ('text_pro1',\n",
       "                                 Pipeline(steps=[('text_vect1',\n",
       "                                                  CountVectorizer(binary=True,\n",
       "                                                                  max_features=50))]),\n",
       "                                 'county_name')])</pre></div></div></div><div class=\"sk-parallel\"><div class=\"sk-parallel-item\"><div class=\"sk-item\"><div class=\"sk-label-container\"><div class=\"sk-label sk-toggleable\"><input class=\"sk-toggleable__control sk-hidden--visually\" id=\"8491016d-3be7-4cb2-8808-0f5c07af05c8\" type=\"checkbox\" ><label class=\"sk-toggleable__label\" for=\"8491016d-3be7-4cb2-8808-0f5c07af05c8\">numeric</label><div class=\"sk-toggleable__content\"><pre>['subject_age']</pre></div></div></div><div class=\"sk-serial\"><div class=\"sk-item\"><div class=\"sk-serial\"><div class=\"sk-item\"><div class=\"sk-estimator sk-toggleable\"><input class=\"sk-toggleable__control sk-hidden--visually\" id=\"3d1012db-0a6e-41b3-83a7-4c90cea964a2\" type=\"checkbox\" ><label class=\"sk-toggleable__label\" for=\"3d1012db-0a6e-41b3-83a7-4c90cea964a2\">MinMaxScaler</label><div class=\"sk-toggleable__content\"><pre>MinMaxScaler()</pre></div></div></div></div></div></div></div></div><div class=\"sk-parallel-item\"><div class=\"sk-item\"><div class=\"sk-label-container\"><div class=\"sk-label sk-toggleable\"><input class=\"sk-toggleable__control sk-hidden--visually\" id=\"10df3ee3-a9db-4a87-8b0f-70c5fd41204c\" type=\"checkbox\" ><label class=\"sk-toggleable__label\" for=\"10df3ee3-a9db-4a87-8b0f-70c5fd41204c\">categoric</label><div class=\"sk-toggleable__content\"><pre>['subject_sex', 'type', 'arrest_made', 'citation_issued', 'warning_issued', 'outcome', 'contraband_found', 'frisk_performed', 'search_conducted', 'search_basis', 'reason_for_stop', 'vehicle_type', 'vehicle_registration_state']</pre></div></div></div><div class=\"sk-serial\"><div class=\"sk-item\"><div class=\"sk-serial\"><div class=\"sk-item\"><div class=\"sk-estimator sk-toggleable\"><input class=\"sk-toggleable__control sk-hidden--visually\" id=\"fa339633-24ac-4727-badd-457f6cba2c5a\" type=\"checkbox\" ><label class=\"sk-toggleable__label\" for=\"fa339633-24ac-4727-badd-457f6cba2c5a\">OneHotEncoder</label><div class=\"sk-toggleable__content\"><pre>OneHotEncoder(handle_unknown='ignore')</pre></div></div></div></div></div></div></div></div><div class=\"sk-parallel-item\"><div class=\"sk-item\"><div class=\"sk-label-container\"><div class=\"sk-label sk-toggleable\"><input class=\"sk-toggleable__control sk-hidden--visually\" id=\"cf3a6a66-2129-46c5-8422-a34fec7984c0\" type=\"checkbox\" ><label class=\"sk-toggleable__label\" for=\"cf3a6a66-2129-46c5-8422-a34fec7984c0\">text_pro0</label><div class=\"sk-toggleable__content\"><pre>location</pre></div></div></div><div class=\"sk-serial\"><div class=\"sk-item\"><div class=\"sk-serial\"><div class=\"sk-item\"><div class=\"sk-estimator sk-toggleable\"><input class=\"sk-toggleable__control sk-hidden--visually\" id=\"15af41df-1e31-4674-bcb7-b422fe4b5e66\" type=\"checkbox\" ><label class=\"sk-toggleable__label\" for=\"15af41df-1e31-4674-bcb7-b422fe4b5e66\">CountVectorizer</label><div class=\"sk-toggleable__content\"><pre>CountVectorizer(binary=True, max_features=50)</pre></div></div></div></div></div></div></div></div><div class=\"sk-parallel-item\"><div class=\"sk-item\"><div class=\"sk-label-container\"><div class=\"sk-label sk-toggleable\"><input class=\"sk-toggleable__control sk-hidden--visually\" id=\"b84eafdc-b753-4ec5-9558-12abee39510d\" type=\"checkbox\" ><label class=\"sk-toggleable__label\" for=\"b84eafdc-b753-4ec5-9558-12abee39510d\">text_pro1</label><div class=\"sk-toggleable__content\"><pre>county_name</pre></div></div></div><div class=\"sk-serial\"><div class=\"sk-item\"><div class=\"sk-serial\"><div class=\"sk-item\"><div class=\"sk-estimator sk-toggleable\"><input class=\"sk-toggleable__control sk-hidden--visually\" id=\"32f549d3-7636-4b8a-b5ef-13392694eec4\" type=\"checkbox\" ><label class=\"sk-toggleable__label\" for=\"32f549d3-7636-4b8a-b5ef-13392694eec4\">CountVectorizer</label><div class=\"sk-toggleable__content\"><pre>CountVectorizer(binary=True, max_features=50)</pre></div></div></div></div></div></div></div></div></div></div><div class=\"sk-item\"><div class=\"sk-estimator sk-toggleable\"><input class=\"sk-toggleable__control sk-hidden--visually\" id=\"af4ac408-e84f-46eb-9520-3fb8846c77a0\" type=\"checkbox\" ><label class=\"sk-toggleable__label\" for=\"af4ac408-e84f-46eb-9520-3fb8846c77a0\">RandomForestClassifier</label><div class=\"sk-toggleable__content\"><pre>RandomForestClassifier()</pre></div></div></div></div></div></div></div>"
      ],
      "text/plain": [
       "Pipeline(steps=[('data_preprocessing',\n",
       "                 ColumnTransformer(transformers=[('numeric',\n",
       "                                                  Pipeline(steps=[('num_scaler',\n",
       "                                                                   MinMaxScaler())]),\n",
       "                                                  ['subject_age']),\n",
       "                                                 ('categoric',\n",
       "                                                  Pipeline(steps=[('cat_encoder',\n",
       "                                                                   OneHotEncoder(handle_unknown='ignore'))]),\n",
       "                                                  ['subject_sex', 'type',\n",
       "                                                   'arrest_made',\n",
       "                                                   'citation_issued',\n",
       "                                                   'warning_issued', 'outcome',\n",
       "                                                   'contraband_found',\n",
       "                                                   'frisk_performed',\n",
       "                                                   'search_conducted',\n",
       "                                                   'search_basis',\n",
       "                                                   'reason_for_stop',\n",
       "                                                   'vehicle_type',\n",
       "                                                   'vehicle_registration_state']),\n",
       "                                                 ('text_pro0',\n",
       "                                                  Pipeline(steps=[('text_vect0',\n",
       "                                                                   CountVectorizer(binary=True,\n",
       "                                                                                   max_features=50))]),\n",
       "                                                  'location'),\n",
       "                                                 ('text_pro1',\n",
       "                                                  Pipeline(steps=[('text_vect1',\n",
       "                                                                   CountVectorizer(binary=True,\n",
       "                                                                                   max_features=50))]),\n",
       "                                                  'county_name')])),\n",
       "                ('rf', RandomForestClassifier())])"
      ]
     },
     "execution_count": 33,
     "metadata": {},
     "output_type": "execute_result"
    }
   ],
   "source": [
    "from sklearn.pipeline import Pipeline\n",
    "from sklearn.ensemble import RandomForestClassifier\n",
    "\n",
    "pipeline2 = Pipeline([\n",
    "    ('data_preprocessing', data_preprocessor),\n",
    "    ('rf', RandomForestClassifier())\n",
    "])\n",
    "\n",
    "# from sklearn import set_config\n",
    "# set_config(display='diagram')\n",
    "pipeline2"
   ]
  },
  {
   "cell_type": "markdown",
   "metadata": {},
   "source": [
    "#### 6. Training and Cross Validation with Random Forest Classifier"
   ]
  },
  {
   "cell_type": "code",
   "execution_count": null,
   "metadata": {},
   "outputs": [],
   "source": [
    "from sklearn.metrics import confusion_matrix, classification_report, accuracy_score\n",
    "\n",
    "pipeline2.fit(X_train, y_train)\n",
    "train_pre = pipeline2.predict(X_train)\n",
    "\n",
    "print(confusion_matrix(y_train, train_pre))\n",
    "print(classification_report(y_train, train_pre))\n",
    "print('Accuracy Score:', accuracy_score(y_train, train_pre))"
   ]
  },
  {
   "cell_type": "markdown",
   "metadata": {},
   "source": [
    "On applying the Random Forest classifier, we get 79% accuracy over the training data. "
   ]
  },
  {
   "cell_type": "code",
   "execution_count": null,
   "metadata": {},
   "outputs": [],
   "source": [
    "val_pre = pipeline2.predict(X_val)\n",
    "\n",
    "print(confusion_matrix(y_val, val_pre))\n",
    "print(classification_report(y_val, val_pre))\n",
    "print('Accuracy Score:', accuracy_score(y_val, val_pre))"
   ]
  },
  {
   "cell_type": "markdown",
   "metadata": {},
   "source": [
    "With applying the model on validation, we get an accuracy of 73% which is lesser than that of training set."
   ]
  },
  {
   "cell_type": "markdown",
   "metadata": {},
   "source": [
    "#### 7. Randomized Search Cross-Validation Hyperparameter Tuning\n",
    "\n",
    "We use Randomized Search to look for hyperparameter combinations to improve the accuracy on the test set (and reduce the generalization gap)."
   ]
  },
  {
   "cell_type": "code",
   "execution_count": null,
   "metadata": {},
   "outputs": [],
   "source": [
    "from sklearn.model_selection import GridSearchCV, RandomizedSearchCV\n",
    "\n",
    "# param_rand = {'rf__max_depth': [10, 20, 30],\n",
    "#               'rf__min_samples_leaf':[1, 2, 5],\n",
    "#               'rf__min_samples_split':[10, 20, 30]\n",
    "#              }\n",
    "\n",
    "param_rand = {'rf__max_depth': [10, 20],\n",
    "              'rf__min_samples_leaf':[1, 2],\n",
    "              'rf__min_samples_split':[10, 20]\n",
    "             }\n",
    "\n",
    "random_search = GridSearchCV(pipeline2, \n",
    "                           param_rand,\n",
    "                           cv = 3,\n",
    "                           verbose = 1,\n",
    "                           n_jobs = -1)\n",
    "\n",
    "random_search.fit(X_train, y_train)"
   ]
  },
  {
   "cell_type": "markdown",
   "metadata": {},
   "source": [
    "In this section, we have reduced the cross-validation to 3 k-folds and reduced the parameters for grid search as well as it takes a little too long to run the code."
   ]
  },
  {
   "cell_type": "code",
   "execution_count": null,
   "metadata": {},
   "outputs": [],
   "source": [
    "test_pre = classifier2.predict(X_test)\n",
    "\n",
    "print(confusion_matrix(y_test, test_pre))\n",
    "print(classification_report(y_test, test_pre))\n",
    "print('Accuracy Score:', accuracy_score(y_test, test_pre))"
   ]
  },
  {
   "cell_type": "markdown",
   "metadata": {},
   "source": [
    "The final accuracy obtained in 72%. The decision tree classifier works much better than random forest in this section. We can also use the randomized search with random forest classifier as this is proven to be the best bagging optimization in machine learning models. \n",
    "\n",
    "We can infer that random forests take a long time to split the decisions and work on different trees that would consume more than a decision tree classifier wherein a grid search cross validated hyperparameter tuning that performs an exhaustive search and finds the optimum combination of the hyperparameters over the specified parameter values. \n",
    "\n",
    "The step of performing a cross validation builds multiple trees in the background that will improve the performance and structure of the existing model that we have built.\n",
    "\n",
    "In our model predictions, when we look at the values of 'support' given in the classification report, it shows the number of actual occurences in our dataset.\n",
    "\n",
    "#### Inferences:\n",
    "\n",
    "1. We have found that the variables rawRace and subject_race have a correlation which affected the model's performance. Upon removing one of them, we could make accurate predictions.\n",
    "\n",
    "2. Variables such as contraband_drug and contraband_found showed similarities which would overfit the model and hence, one of the features were used in general to overcome duplication of values in the data set. \n",
    "\n",
    "3. We have learned that bagging techniques help improve the model performance and also tried various combinations through this assignment. The best accuracy is provided for the Decision Tree classifier with the Grid Search Cross=Validation hyper parameter tuning model. "
   ]
  }
 ],
 "metadata": {
  "kernelspec": {
   "display_name": "Python 3",
   "language": "python",
   "name": "python3"
  },
  "language_info": {
   "codemirror_mode": {
    "name": "ipython",
    "version": 3
   },
   "file_extension": ".py",
   "mimetype": "text/x-python",
   "name": "python",
   "nbconvert_exporter": "python",
   "pygments_lexer": "ipython3",
   "version": "3.7.4"
  }
 },
 "nbformat": 4,
 "nbformat_minor": 2
}
