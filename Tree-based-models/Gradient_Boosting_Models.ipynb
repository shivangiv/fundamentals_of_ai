{
 "cells": [
  {
   "cell_type": "markdown",
   "metadata": {},
   "source": [
    "\n",
    "<br> <br> <br> <br>\n",
    "<br> <br> <br> <br>\n",
    "\n",
    "<center>\n",
    "\n",
    "\n",
    "### EAI 6000 Fundamentals of AI\n",
    "### Assignment 3 Tree Based Models\n",
    "### Shivangi Vashi\n",
    "### Anirudh Sharma\n",
    "### Sandeep Srivastava\n",
    "### Sweta Mankala\n",
    "\n",
    "\n",
    "<br> <br> <br> <br>\n",
    "  \n",
    "\n",
    "### Northeastern University\n",
    "### Instructor: Kasun Samarasinghe\n",
    "### Fall 2020\n",
    "### 12 November 2020\n",
    "</center>\n",
    "\n",
    "******\n",
    "<br> <br> <br> <br>\n",
    "\n",
    "<style>\n",
    "body {\n",
    "text-align: justify\n",
    "font-size: 16pt}\n",
    "</style>\n",
    "\n",
    "\n",
    "## <center>Introduction  </center>\n",
    "\n",
    "<br><br>\n",
    "This week we explore Tree based models. Our data is from: [policing data](https://openpolicing.stanford.edu/data/), and we look at Massachusetts Traffic Stops. Our goal is to explore policing and understand factors that affect the decisions made by the police. In this analysis, we will be performing \n",
    "<br><br>"
   ]
  },
  {
   "cell_type": "code",
   "execution_count": 2,
   "metadata": {},
   "outputs": [],
   "source": [
    "import pandas as pd\n",
    "import numpy as np\n",
    "import matplotlib.pyplot as plt\n",
    "import seaborn as sns\n",
    "import tensorflow as tf\n",
    "from sklearn.preprocessing import LabelEncoder\n",
    "import xgboost as xgb\n",
    "from sklearn.model_selection import train_test_split\n",
    "from sklearn.metrics import balanced_accuracy_score, roc_auc_score, make_scorer\n",
    "from sklearn.model_selection import GridSearchCV\n",
    "from sklearn.metrics import confusion_matrix\n",
    "from sklearn.metrics import plot_confusion_matrix\n",
    "from sklearn.metrics import accuracy_score\n",
    "from IPython.display import display"
   ]
  },
  {
   "cell_type": "code",
   "execution_count": 4,
   "metadata": {},
   "outputs": [
    {
     "output_type": "error",
     "ename": "FileNotFoundError",
     "evalue": "[Errno 2] No such file or directory: '../ma_statewide_2020_04_01.csv'",
     "traceback": [
      "\u001b[0;31m---------------------------------------------------------------------------\u001b[0m",
      "\u001b[0;31mFileNotFoundError\u001b[0m                         Traceback (most recent call last)",
      "\u001b[0;32m<ipython-input-4-cfb4fce26bc3>\u001b[0m in \u001b[0;36m<module>\u001b[0;34m\u001b[0m\n\u001b[1;32m      2\u001b[0m \u001b[0mopenpolicing_path\u001b[0m\u001b[0;34m=\u001b[0m\u001b[0;34m\"../ma_statewide_2020_04_01.csv\"\u001b[0m\u001b[0;34m\u001b[0m\u001b[0;34m\u001b[0m\u001b[0m\n\u001b[1;32m      3\u001b[0m \u001b[0;34m\u001b[0m\u001b[0m\n\u001b[0;32m----> 4\u001b[0;31m \u001b[0mdata\u001b[0m\u001b[0;34m=\u001b[0m\u001b[0mpd\u001b[0m\u001b[0;34m.\u001b[0m\u001b[0mread_csv\u001b[0m\u001b[0;34m(\u001b[0m\u001b[0mopenpolicing_path\u001b[0m\u001b[0;34m,\u001b[0m\u001b[0mlow_memory\u001b[0m\u001b[0;34m=\u001b[0m\u001b[0;32mFalse\u001b[0m\u001b[0;34m)\u001b[0m\u001b[0;34m\u001b[0m\u001b[0;34m\u001b[0m\u001b[0m\n\u001b[0m",
      "\u001b[0;32m/Library/Frameworks/Python.framework/Versions/3.8/lib/python3.8/site-packages/pandas/io/parsers.py\u001b[0m in \u001b[0;36mread_csv\u001b[0;34m(filepath_or_buffer, sep, delimiter, header, names, index_col, usecols, squeeze, prefix, mangle_dupe_cols, dtype, engine, converters, true_values, false_values, skipinitialspace, skiprows, skipfooter, nrows, na_values, keep_default_na, na_filter, verbose, skip_blank_lines, parse_dates, infer_datetime_format, keep_date_col, date_parser, dayfirst, cache_dates, iterator, chunksize, compression, thousands, decimal, lineterminator, quotechar, quoting, doublequote, escapechar, comment, encoding, dialect, error_bad_lines, warn_bad_lines, delim_whitespace, low_memory, memory_map, float_precision)\u001b[0m\n\u001b[1;32m    684\u001b[0m     )\n\u001b[1;32m    685\u001b[0m \u001b[0;34m\u001b[0m\u001b[0m\n\u001b[0;32m--> 686\u001b[0;31m     \u001b[0;32mreturn\u001b[0m \u001b[0m_read\u001b[0m\u001b[0;34m(\u001b[0m\u001b[0mfilepath_or_buffer\u001b[0m\u001b[0;34m,\u001b[0m \u001b[0mkwds\u001b[0m\u001b[0;34m)\u001b[0m\u001b[0;34m\u001b[0m\u001b[0;34m\u001b[0m\u001b[0m\n\u001b[0m\u001b[1;32m    687\u001b[0m \u001b[0;34m\u001b[0m\u001b[0m\n\u001b[1;32m    688\u001b[0m \u001b[0;34m\u001b[0m\u001b[0m\n",
      "\u001b[0;32m/Library/Frameworks/Python.framework/Versions/3.8/lib/python3.8/site-packages/pandas/io/parsers.py\u001b[0m in \u001b[0;36m_read\u001b[0;34m(filepath_or_buffer, kwds)\u001b[0m\n\u001b[1;32m    450\u001b[0m \u001b[0;34m\u001b[0m\u001b[0m\n\u001b[1;32m    451\u001b[0m     \u001b[0;31m# Create the parser.\u001b[0m\u001b[0;34m\u001b[0m\u001b[0;34m\u001b[0m\u001b[0;34m\u001b[0m\u001b[0m\n\u001b[0;32m--> 452\u001b[0;31m     \u001b[0mparser\u001b[0m \u001b[0;34m=\u001b[0m \u001b[0mTextFileReader\u001b[0m\u001b[0;34m(\u001b[0m\u001b[0mfp_or_buf\u001b[0m\u001b[0;34m,\u001b[0m \u001b[0;34m**\u001b[0m\u001b[0mkwds\u001b[0m\u001b[0;34m)\u001b[0m\u001b[0;34m\u001b[0m\u001b[0;34m\u001b[0m\u001b[0m\n\u001b[0m\u001b[1;32m    453\u001b[0m \u001b[0;34m\u001b[0m\u001b[0m\n\u001b[1;32m    454\u001b[0m     \u001b[0;32mif\u001b[0m \u001b[0mchunksize\u001b[0m \u001b[0;32mor\u001b[0m \u001b[0miterator\u001b[0m\u001b[0;34m:\u001b[0m\u001b[0;34m\u001b[0m\u001b[0;34m\u001b[0m\u001b[0m\n",
      "\u001b[0;32m/Library/Frameworks/Python.framework/Versions/3.8/lib/python3.8/site-packages/pandas/io/parsers.py\u001b[0m in \u001b[0;36m__init__\u001b[0;34m(self, f, engine, **kwds)\u001b[0m\n\u001b[1;32m    934\u001b[0m             \u001b[0mself\u001b[0m\u001b[0;34m.\u001b[0m\u001b[0moptions\u001b[0m\u001b[0;34m[\u001b[0m\u001b[0;34m\"has_index_names\"\u001b[0m\u001b[0;34m]\u001b[0m \u001b[0;34m=\u001b[0m \u001b[0mkwds\u001b[0m\u001b[0;34m[\u001b[0m\u001b[0;34m\"has_index_names\"\u001b[0m\u001b[0;34m]\u001b[0m\u001b[0;34m\u001b[0m\u001b[0;34m\u001b[0m\u001b[0m\n\u001b[1;32m    935\u001b[0m \u001b[0;34m\u001b[0m\u001b[0m\n\u001b[0;32m--> 936\u001b[0;31m         \u001b[0mself\u001b[0m\u001b[0;34m.\u001b[0m\u001b[0m_make_engine\u001b[0m\u001b[0;34m(\u001b[0m\u001b[0mself\u001b[0m\u001b[0;34m.\u001b[0m\u001b[0mengine\u001b[0m\u001b[0;34m)\u001b[0m\u001b[0;34m\u001b[0m\u001b[0;34m\u001b[0m\u001b[0m\n\u001b[0m\u001b[1;32m    937\u001b[0m \u001b[0;34m\u001b[0m\u001b[0m\n\u001b[1;32m    938\u001b[0m     \u001b[0;32mdef\u001b[0m \u001b[0mclose\u001b[0m\u001b[0;34m(\u001b[0m\u001b[0mself\u001b[0m\u001b[0;34m)\u001b[0m\u001b[0;34m:\u001b[0m\u001b[0;34m\u001b[0m\u001b[0;34m\u001b[0m\u001b[0m\n",
      "\u001b[0;32m/Library/Frameworks/Python.framework/Versions/3.8/lib/python3.8/site-packages/pandas/io/parsers.py\u001b[0m in \u001b[0;36m_make_engine\u001b[0;34m(self, engine)\u001b[0m\n\u001b[1;32m   1166\u001b[0m     \u001b[0;32mdef\u001b[0m \u001b[0m_make_engine\u001b[0m\u001b[0;34m(\u001b[0m\u001b[0mself\u001b[0m\u001b[0;34m,\u001b[0m \u001b[0mengine\u001b[0m\u001b[0;34m=\u001b[0m\u001b[0;34m\"c\"\u001b[0m\u001b[0;34m)\u001b[0m\u001b[0;34m:\u001b[0m\u001b[0;34m\u001b[0m\u001b[0;34m\u001b[0m\u001b[0m\n\u001b[1;32m   1167\u001b[0m         \u001b[0;32mif\u001b[0m \u001b[0mengine\u001b[0m \u001b[0;34m==\u001b[0m \u001b[0;34m\"c\"\u001b[0m\u001b[0;34m:\u001b[0m\u001b[0;34m\u001b[0m\u001b[0;34m\u001b[0m\u001b[0m\n\u001b[0;32m-> 1168\u001b[0;31m             \u001b[0mself\u001b[0m\u001b[0;34m.\u001b[0m\u001b[0m_engine\u001b[0m \u001b[0;34m=\u001b[0m \u001b[0mCParserWrapper\u001b[0m\u001b[0;34m(\u001b[0m\u001b[0mself\u001b[0m\u001b[0;34m.\u001b[0m\u001b[0mf\u001b[0m\u001b[0;34m,\u001b[0m \u001b[0;34m**\u001b[0m\u001b[0mself\u001b[0m\u001b[0;34m.\u001b[0m\u001b[0moptions\u001b[0m\u001b[0;34m)\u001b[0m\u001b[0;34m\u001b[0m\u001b[0;34m\u001b[0m\u001b[0m\n\u001b[0m\u001b[1;32m   1169\u001b[0m         \u001b[0;32melse\u001b[0m\u001b[0;34m:\u001b[0m\u001b[0;34m\u001b[0m\u001b[0;34m\u001b[0m\u001b[0m\n\u001b[1;32m   1170\u001b[0m             \u001b[0;32mif\u001b[0m \u001b[0mengine\u001b[0m \u001b[0;34m==\u001b[0m \u001b[0;34m\"python\"\u001b[0m\u001b[0;34m:\u001b[0m\u001b[0;34m\u001b[0m\u001b[0;34m\u001b[0m\u001b[0m\n",
      "\u001b[0;32m/Library/Frameworks/Python.framework/Versions/3.8/lib/python3.8/site-packages/pandas/io/parsers.py\u001b[0m in \u001b[0;36m__init__\u001b[0;34m(self, src, **kwds)\u001b[0m\n\u001b[1;32m   1996\u001b[0m         \u001b[0mkwds\u001b[0m\u001b[0;34m[\u001b[0m\u001b[0;34m\"usecols\"\u001b[0m\u001b[0;34m]\u001b[0m \u001b[0;34m=\u001b[0m \u001b[0mself\u001b[0m\u001b[0;34m.\u001b[0m\u001b[0musecols\u001b[0m\u001b[0;34m\u001b[0m\u001b[0;34m\u001b[0m\u001b[0m\n\u001b[1;32m   1997\u001b[0m \u001b[0;34m\u001b[0m\u001b[0m\n\u001b[0;32m-> 1998\u001b[0;31m         \u001b[0mself\u001b[0m\u001b[0;34m.\u001b[0m\u001b[0m_reader\u001b[0m \u001b[0;34m=\u001b[0m \u001b[0mparsers\u001b[0m\u001b[0;34m.\u001b[0m\u001b[0mTextReader\u001b[0m\u001b[0;34m(\u001b[0m\u001b[0msrc\u001b[0m\u001b[0;34m,\u001b[0m \u001b[0;34m**\u001b[0m\u001b[0mkwds\u001b[0m\u001b[0;34m)\u001b[0m\u001b[0;34m\u001b[0m\u001b[0;34m\u001b[0m\u001b[0m\n\u001b[0m\u001b[1;32m   1999\u001b[0m         \u001b[0mself\u001b[0m\u001b[0;34m.\u001b[0m\u001b[0munnamed_cols\u001b[0m \u001b[0;34m=\u001b[0m \u001b[0mself\u001b[0m\u001b[0;34m.\u001b[0m\u001b[0m_reader\u001b[0m\u001b[0;34m.\u001b[0m\u001b[0munnamed_cols\u001b[0m\u001b[0;34m\u001b[0m\u001b[0;34m\u001b[0m\u001b[0m\n\u001b[1;32m   2000\u001b[0m \u001b[0;34m\u001b[0m\u001b[0m\n",
      "\u001b[0;32mpandas/_libs/parsers.pyx\u001b[0m in \u001b[0;36mpandas._libs.parsers.TextReader.__cinit__\u001b[0;34m()\u001b[0m\n",
      "\u001b[0;32mpandas/_libs/parsers.pyx\u001b[0m in \u001b[0;36mpandas._libs.parsers.TextReader._setup_parser_source\u001b[0;34m()\u001b[0m\n",
      "\u001b[0;31mFileNotFoundError\u001b[0m: [Errno 2] No such file or directory: '../ma_statewide_2020_04_01.csv'"
     ]
    }
   ],
   "source": [
    "#Importing data\n",
    "openpolicing_path=\"../ma_statewide_2020_04_01.csv\"\n",
    "\n",
    "data=pd.read_csv('/Users/anirudhsharma/FAI/ma_statewide_2020_04_01.csv',low_memory=False)"
   ]
  },
  {
   "cell_type": "code",
   "execution_count": 3,
   "metadata": {},
   "outputs": [
    {
     "data": {
      "text/html": [
       "<div>\n",
       "<style scoped>\n",
       "    .dataframe tbody tr th:only-of-type {\n",
       "        vertical-align: middle;\n",
       "    }\n",
       "\n",
       "    .dataframe tbody tr th {\n",
       "        vertical-align: top;\n",
       "    }\n",
       "\n",
       "    .dataframe thead th {\n",
       "        text-align: right;\n",
       "    }\n",
       "</style>\n",
       "<table border=\"1\" class=\"dataframe\">\n",
       "  <thead>\n",
       "    <tr style=\"text-align: right;\">\n",
       "      <th></th>\n",
       "      <th>raw_row_number</th>\n",
       "      <th>date</th>\n",
       "      <th>location</th>\n",
       "      <th>county_name</th>\n",
       "      <th>subject_age</th>\n",
       "      <th>subject_race</th>\n",
       "      <th>subject_sex</th>\n",
       "      <th>type</th>\n",
       "      <th>arrest_made</th>\n",
       "      <th>citation_issued</th>\n",
       "      <th>...</th>\n",
       "      <th>contraband_weapons</th>\n",
       "      <th>contraband_alcohol</th>\n",
       "      <th>contraband_other</th>\n",
       "      <th>frisk_performed</th>\n",
       "      <th>search_conducted</th>\n",
       "      <th>search_basis</th>\n",
       "      <th>reason_for_stop</th>\n",
       "      <th>vehicle_type</th>\n",
       "      <th>vehicle_registration_state</th>\n",
       "      <th>raw_Race</th>\n",
       "    </tr>\n",
       "  </thead>\n",
       "  <tbody>\n",
       "    <tr>\n",
       "      <th>0</th>\n",
       "      <td>1</td>\n",
       "      <td>2007-06-06</td>\n",
       "      <td>MIDDLEBOROUGH</td>\n",
       "      <td>Plymouth County</td>\n",
       "      <td>33.0</td>\n",
       "      <td>white</td>\n",
       "      <td>male</td>\n",
       "      <td>vehicular</td>\n",
       "      <td>False</td>\n",
       "      <td>True</td>\n",
       "      <td>...</td>\n",
       "      <td>NaN</td>\n",
       "      <td>False</td>\n",
       "      <td>NaN</td>\n",
       "      <td>NaN</td>\n",
       "      <td>False</td>\n",
       "      <td>NaN</td>\n",
       "      <td>Speed</td>\n",
       "      <td>Passenger</td>\n",
       "      <td>MA</td>\n",
       "      <td>White</td>\n",
       "    </tr>\n",
       "    <tr>\n",
       "      <th>1</th>\n",
       "      <td>2</td>\n",
       "      <td>2007-06-07</td>\n",
       "      <td>SEEKONK</td>\n",
       "      <td>Bristol County</td>\n",
       "      <td>36.0</td>\n",
       "      <td>white</td>\n",
       "      <td>male</td>\n",
       "      <td>vehicular</td>\n",
       "      <td>False</td>\n",
       "      <td>False</td>\n",
       "      <td>...</td>\n",
       "      <td>False</td>\n",
       "      <td>False</td>\n",
       "      <td>False</td>\n",
       "      <td>False</td>\n",
       "      <td>True</td>\n",
       "      <td>other</td>\n",
       "      <td>NaN</td>\n",
       "      <td>Commercial</td>\n",
       "      <td>MA</td>\n",
       "      <td>White</td>\n",
       "    </tr>\n",
       "    <tr>\n",
       "      <th>2</th>\n",
       "      <td>3</td>\n",
       "      <td>2007-06-07</td>\n",
       "      <td>MEDFORD</td>\n",
       "      <td>Middlesex County</td>\n",
       "      <td>56.0</td>\n",
       "      <td>white</td>\n",
       "      <td>female</td>\n",
       "      <td>vehicular</td>\n",
       "      <td>False</td>\n",
       "      <td>False</td>\n",
       "      <td>...</td>\n",
       "      <td>NaN</td>\n",
       "      <td>False</td>\n",
       "      <td>NaN</td>\n",
       "      <td>NaN</td>\n",
       "      <td>False</td>\n",
       "      <td>NaN</td>\n",
       "      <td>NaN</td>\n",
       "      <td>Passenger</td>\n",
       "      <td>MA</td>\n",
       "      <td>White</td>\n",
       "    </tr>\n",
       "    <tr>\n",
       "      <th>3</th>\n",
       "      <td>4</td>\n",
       "      <td>2007-06-07</td>\n",
       "      <td>MEDFORD</td>\n",
       "      <td>Middlesex County</td>\n",
       "      <td>37.0</td>\n",
       "      <td>white</td>\n",
       "      <td>male</td>\n",
       "      <td>vehicular</td>\n",
       "      <td>False</td>\n",
       "      <td>False</td>\n",
       "      <td>...</td>\n",
       "      <td>NaN</td>\n",
       "      <td>False</td>\n",
       "      <td>NaN</td>\n",
       "      <td>NaN</td>\n",
       "      <td>False</td>\n",
       "      <td>NaN</td>\n",
       "      <td>NaN</td>\n",
       "      <td>Commercial</td>\n",
       "      <td>MA</td>\n",
       "      <td>White</td>\n",
       "    </tr>\n",
       "    <tr>\n",
       "      <th>4</th>\n",
       "      <td>5</td>\n",
       "      <td>2007-06-07</td>\n",
       "      <td>EVERETT</td>\n",
       "      <td>Middlesex County</td>\n",
       "      <td>22.0</td>\n",
       "      <td>hispanic</td>\n",
       "      <td>female</td>\n",
       "      <td>vehicular</td>\n",
       "      <td>False</td>\n",
       "      <td>True</td>\n",
       "      <td>...</td>\n",
       "      <td>NaN</td>\n",
       "      <td>False</td>\n",
       "      <td>NaN</td>\n",
       "      <td>NaN</td>\n",
       "      <td>False</td>\n",
       "      <td>NaN</td>\n",
       "      <td>NaN</td>\n",
       "      <td>Commercial</td>\n",
       "      <td>MA</td>\n",
       "      <td>Hispanic</td>\n",
       "    </tr>\n",
       "  </tbody>\n",
       "</table>\n",
       "<p>5 rows × 24 columns</p>\n",
       "</div>"
      ],
      "text/plain": [
       "   raw_row_number        date       location       county_name  subject_age  \\\n",
       "0               1  2007-06-06  MIDDLEBOROUGH   Plymouth County         33.0   \n",
       "1               2  2007-06-07        SEEKONK    Bristol County         36.0   \n",
       "2               3  2007-06-07        MEDFORD  Middlesex County         56.0   \n",
       "3               4  2007-06-07        MEDFORD  Middlesex County         37.0   \n",
       "4               5  2007-06-07        EVERETT  Middlesex County         22.0   \n",
       "\n",
       "  subject_race subject_sex       type arrest_made citation_issued  ...  \\\n",
       "0        white        male  vehicular       False            True  ...   \n",
       "1        white        male  vehicular       False           False  ...   \n",
       "2        white      female  vehicular       False           False  ...   \n",
       "3        white        male  vehicular       False           False  ...   \n",
       "4     hispanic      female  vehicular       False            True  ...   \n",
       "\n",
       "  contraband_weapons contraband_alcohol contraband_other frisk_performed  \\\n",
       "0                NaN              False              NaN             NaN   \n",
       "1              False              False            False           False   \n",
       "2                NaN              False              NaN             NaN   \n",
       "3                NaN              False              NaN             NaN   \n",
       "4                NaN              False              NaN             NaN   \n",
       "\n",
       "  search_conducted  search_basis reason_for_stop vehicle_type  \\\n",
       "0            False           NaN           Speed    Passenger   \n",
       "1             True         other             NaN   Commercial   \n",
       "2            False           NaN             NaN    Passenger   \n",
       "3            False           NaN             NaN   Commercial   \n",
       "4            False           NaN             NaN   Commercial   \n",
       "\n",
       "   vehicle_registration_state  raw_Race  \n",
       "0                          MA     White  \n",
       "1                          MA     White  \n",
       "2                          MA     White  \n",
       "3                          MA     White  \n",
       "4                          MA  Hispanic  \n",
       "\n",
       "[5 rows x 24 columns]"
      ]
     },
     "execution_count": 3,
     "metadata": {},
     "output_type": "execute_result"
    }
   ],
   "source": [
    "data.head()"
   ]
  },
  {
   "cell_type": "markdown",
   "metadata": {},
   "source": [
    "We check the data types to see if appropriate types are being used. We will convert them accordinly."
   ]
  },
  {
   "cell_type": "code",
   "execution_count": 6,
   "metadata": {},
   "outputs": [],
   "source": [
    "pd.set_option('display.max_columns', None)\n",
    "pd.set_option('display.max_rows', data.shape[0]+1)"
   ]
  },
  {
   "cell_type": "code",
   "execution_count": 3,
   "metadata": {},
   "outputs": [
    {
     "name": "stdout",
     "output_type": "stream",
     "text": [
      "<class 'pandas.core.frame.DataFrame'>\n",
      "RangeIndex: 3416238 entries, 0 to 3416237\n",
      "Data columns (total 24 columns):\n",
      " #   Column                      Dtype  \n",
      "---  ------                      -----  \n",
      " 0   raw_row_number              int64  \n",
      " 1   date                        object \n",
      " 2   location                    object \n",
      " 3   county_name                 object \n",
      " 4   subject_age                 float64\n",
      " 5   subject_race                object \n",
      " 6   subject_sex                 object \n",
      " 7   type                        object \n",
      " 8   arrest_made                 object \n",
      " 9   citation_issued             object \n",
      " 10  warning_issued              object \n",
      " 11  outcome                     object \n",
      " 12  contraband_found            object \n",
      " 13  contraband_drugs            object \n",
      " 14  contraband_weapons          object \n",
      " 15  contraband_alcohol          bool   \n",
      " 16  contraband_other            object \n",
      " 17  frisk_performed             object \n",
      " 18  search_conducted            bool   \n",
      " 19  search_basis                object \n",
      " 20  reason_for_stop             object \n",
      " 21  vehicle_type                object \n",
      " 22  vehicle_registration_state  object \n",
      " 23  raw_Race                    object \n",
      "dtypes: bool(2), float64(1), int64(1), object(20)\n",
      "memory usage: 579.9+ MB\n"
     ]
    }
   ],
   "source": [
    "data.info()"
   ]
  },
  {
   "cell_type": "markdown",
   "metadata": {},
   "source": [
    "We convert the date from object to date type and extract time for future analyses."
   ]
  },
  {
   "cell_type": "code",
   "execution_count": 5,
   "metadata": {},
   "outputs": [],
   "source": [
    "##Convert date to datetype\n",
    "data.date\n",
    "data[\"date\"] = pd.to_datetime(data.date, format=\"%Y-%m-%d\")"
   ]
  },
  {
   "cell_type": "code",
   "execution_count": 6,
   "metadata": {},
   "outputs": [
    {
     "name": "stdout",
     "output_type": "stream",
     "text": [
      "<bound method NDFrame.head of 0           6\n",
      "1           6\n",
      "2           6\n",
      "3           6\n",
      "4           6\n",
      "           ..\n",
      "3416233    12\n",
      "3416234    12\n",
      "3416235     1\n",
      "3416236     1\n",
      "3416237     1\n",
      "Name: month, Length: 3416238, dtype: int64>\n"
     ]
    }
   ],
   "source": [
    "data['date'] = pd.to_datetime(data['date'])\n",
    "data['year'] = data['date'].dt.year\n",
    "data['month'] = data['date'].dt.month\n",
    "data['day'] = data['date'].dt.day\n",
    "\n",
    "print(data['month'].head)\n",
    "data.drop(['date'], axis=1, inplace = True)"
   ]
  },
  {
   "cell_type": "code",
   "execution_count": 7,
   "metadata": {},
   "outputs": [
    {
     "data": {
      "text/html": [
       "<div>\n",
       "<style scoped>\n",
       "    .dataframe tbody tr th:only-of-type {\n",
       "        vertical-align: middle;\n",
       "    }\n",
       "\n",
       "    .dataframe tbody tr th {\n",
       "        vertical-align: top;\n",
       "    }\n",
       "\n",
       "    .dataframe thead th {\n",
       "        text-align: right;\n",
       "    }\n",
       "</style>\n",
       "<table border=\"1\" class=\"dataframe\">\n",
       "  <thead>\n",
       "    <tr style=\"text-align: right;\">\n",
       "      <th></th>\n",
       "      <th>raw_row_number</th>\n",
       "      <th>location</th>\n",
       "      <th>county_name</th>\n",
       "      <th>subject_age</th>\n",
       "      <th>subject_race</th>\n",
       "      <th>subject_sex</th>\n",
       "      <th>type</th>\n",
       "      <th>arrest_made</th>\n",
       "      <th>citation_issued</th>\n",
       "      <th>warning_issued</th>\n",
       "      <th>...</th>\n",
       "      <th>frisk_performed</th>\n",
       "      <th>search_conducted</th>\n",
       "      <th>search_basis</th>\n",
       "      <th>reason_for_stop</th>\n",
       "      <th>vehicle_type</th>\n",
       "      <th>vehicle_registration_state</th>\n",
       "      <th>raw_Race</th>\n",
       "      <th>year</th>\n",
       "      <th>month</th>\n",
       "      <th>day</th>\n",
       "    </tr>\n",
       "  </thead>\n",
       "  <tbody>\n",
       "    <tr>\n",
       "      <th>0</th>\n",
       "      <td>1</td>\n",
       "      <td>MIDDLEBOROUGH</td>\n",
       "      <td>Plymouth County</td>\n",
       "      <td>33.0</td>\n",
       "      <td>white</td>\n",
       "      <td>male</td>\n",
       "      <td>vehicular</td>\n",
       "      <td>False</td>\n",
       "      <td>True</td>\n",
       "      <td>False</td>\n",
       "      <td>...</td>\n",
       "      <td>NaN</td>\n",
       "      <td>False</td>\n",
       "      <td>NaN</td>\n",
       "      <td>Speed</td>\n",
       "      <td>Passenger</td>\n",
       "      <td>MA</td>\n",
       "      <td>White</td>\n",
       "      <td>2007</td>\n",
       "      <td>6</td>\n",
       "      <td>6</td>\n",
       "    </tr>\n",
       "    <tr>\n",
       "      <th>1</th>\n",
       "      <td>2</td>\n",
       "      <td>SEEKONK</td>\n",
       "      <td>Bristol County</td>\n",
       "      <td>36.0</td>\n",
       "      <td>white</td>\n",
       "      <td>male</td>\n",
       "      <td>vehicular</td>\n",
       "      <td>False</td>\n",
       "      <td>False</td>\n",
       "      <td>True</td>\n",
       "      <td>...</td>\n",
       "      <td>False</td>\n",
       "      <td>True</td>\n",
       "      <td>other</td>\n",
       "      <td>NaN</td>\n",
       "      <td>Commercial</td>\n",
       "      <td>MA</td>\n",
       "      <td>White</td>\n",
       "      <td>2007</td>\n",
       "      <td>6</td>\n",
       "      <td>7</td>\n",
       "    </tr>\n",
       "    <tr>\n",
       "      <th>2</th>\n",
       "      <td>3</td>\n",
       "      <td>MEDFORD</td>\n",
       "      <td>Middlesex County</td>\n",
       "      <td>56.0</td>\n",
       "      <td>white</td>\n",
       "      <td>female</td>\n",
       "      <td>vehicular</td>\n",
       "      <td>False</td>\n",
       "      <td>False</td>\n",
       "      <td>True</td>\n",
       "      <td>...</td>\n",
       "      <td>NaN</td>\n",
       "      <td>False</td>\n",
       "      <td>NaN</td>\n",
       "      <td>NaN</td>\n",
       "      <td>Passenger</td>\n",
       "      <td>MA</td>\n",
       "      <td>White</td>\n",
       "      <td>2007</td>\n",
       "      <td>6</td>\n",
       "      <td>7</td>\n",
       "    </tr>\n",
       "    <tr>\n",
       "      <th>3</th>\n",
       "      <td>4</td>\n",
       "      <td>MEDFORD</td>\n",
       "      <td>Middlesex County</td>\n",
       "      <td>37.0</td>\n",
       "      <td>white</td>\n",
       "      <td>male</td>\n",
       "      <td>vehicular</td>\n",
       "      <td>False</td>\n",
       "      <td>False</td>\n",
       "      <td>True</td>\n",
       "      <td>...</td>\n",
       "      <td>NaN</td>\n",
       "      <td>False</td>\n",
       "      <td>NaN</td>\n",
       "      <td>NaN</td>\n",
       "      <td>Commercial</td>\n",
       "      <td>MA</td>\n",
       "      <td>White</td>\n",
       "      <td>2007</td>\n",
       "      <td>6</td>\n",
       "      <td>7</td>\n",
       "    </tr>\n",
       "    <tr>\n",
       "      <th>4</th>\n",
       "      <td>5</td>\n",
       "      <td>EVERETT</td>\n",
       "      <td>Middlesex County</td>\n",
       "      <td>22.0</td>\n",
       "      <td>hispanic</td>\n",
       "      <td>female</td>\n",
       "      <td>vehicular</td>\n",
       "      <td>False</td>\n",
       "      <td>True</td>\n",
       "      <td>False</td>\n",
       "      <td>...</td>\n",
       "      <td>NaN</td>\n",
       "      <td>False</td>\n",
       "      <td>NaN</td>\n",
       "      <td>NaN</td>\n",
       "      <td>Commercial</td>\n",
       "      <td>MA</td>\n",
       "      <td>Hispanic</td>\n",
       "      <td>2007</td>\n",
       "      <td>6</td>\n",
       "      <td>7</td>\n",
       "    </tr>\n",
       "  </tbody>\n",
       "</table>\n",
       "<p>5 rows × 26 columns</p>\n",
       "</div>"
      ],
      "text/plain": [
       "   raw_row_number       location       county_name  subject_age subject_race  \\\n",
       "0               1  MIDDLEBOROUGH   Plymouth County         33.0        white   \n",
       "1               2        SEEKONK    Bristol County         36.0        white   \n",
       "2               3        MEDFORD  Middlesex County         56.0        white   \n",
       "3               4        MEDFORD  Middlesex County         37.0        white   \n",
       "4               5        EVERETT  Middlesex County         22.0     hispanic   \n",
       "\n",
       "  subject_sex       type arrest_made citation_issued warning_issued  ...  \\\n",
       "0        male  vehicular       False            True          False  ...   \n",
       "1        male  vehicular       False           False           True  ...   \n",
       "2      female  vehicular       False           False           True  ...   \n",
       "3        male  vehicular       False           False           True  ...   \n",
       "4      female  vehicular       False            True          False  ...   \n",
       "\n",
       "  frisk_performed search_conducted search_basis reason_for_stop  vehicle_type  \\\n",
       "0             NaN            False          NaN           Speed     Passenger   \n",
       "1           False             True        other             NaN    Commercial   \n",
       "2             NaN            False          NaN             NaN     Passenger   \n",
       "3             NaN            False          NaN             NaN    Commercial   \n",
       "4             NaN            False          NaN             NaN    Commercial   \n",
       "\n",
       "  vehicle_registration_state  raw_Race  year month day  \n",
       "0                         MA     White  2007     6   6  \n",
       "1                         MA     White  2007     6   7  \n",
       "2                         MA     White  2007     6   7  \n",
       "3                         MA     White  2007     6   7  \n",
       "4                         MA  Hispanic  2007     6   7  \n",
       "\n",
       "[5 rows x 26 columns]"
      ]
     },
     "execution_count": 7,
     "metadata": {},
     "output_type": "execute_result"
    }
   ],
   "source": [
    "data.head()"
   ]
  },
  {
   "cell_type": "code",
   "execution_count": 8,
   "metadata": {},
   "outputs": [],
   "source": [
    "#Convering race, sex, location etc to categorical\n",
    "data.iloc[:,np.r_[2:4,5:8,9:12,19:23]]=data.iloc[:,np.r_[2:4,5:8,9:12,19:23]].astype(\"category\")"
   ]
  },
  {
   "cell_type": "code",
   "execution_count": 9,
   "metadata": {},
   "outputs": [
    {
     "name": "stdout",
     "output_type": "stream",
     "text": [
      "<class 'pandas.core.frame.DataFrame'>\n",
      "RangeIndex: 3416238 entries, 0 to 3416237\n",
      "Data columns (total 26 columns):\n",
      " #   Column                      Dtype   \n",
      "---  ------                      -----   \n",
      " 0   raw_row_number              int64   \n",
      " 1   location                    object  \n",
      " 2   county_name                 category\n",
      " 3   subject_age                 category\n",
      " 4   subject_race                object  \n",
      " 5   subject_sex                 category\n",
      " 6   type                        category\n",
      " 7   arrest_made                 category\n",
      " 8   citation_issued             object  \n",
      " 9   warning_issued              category\n",
      " 10  outcome                     category\n",
      " 11  contraband_found            category\n",
      " 12  contraband_drugs            object  \n",
      " 13  contraband_weapons          object  \n",
      " 14  contraband_alcohol          bool    \n",
      " 15  contraband_other            object  \n",
      " 16  frisk_performed             object  \n",
      " 17  search_conducted            bool    \n",
      " 18  search_basis                object  \n",
      " 19  reason_for_stop             category\n",
      " 20  vehicle_type                category\n",
      " 21  vehicle_registration_state  category\n",
      " 22  raw_Race                    category\n",
      " 23  year                        int64   \n",
      " 24  month                       int64   \n",
      " 25  day                         int64   \n",
      "dtypes: bool(2), category(12), int64(4), object(8)\n",
      "memory usage: 358.4+ MB\n"
     ]
    }
   ],
   "source": [
    "data.info()"
   ]
  },
  {
   "cell_type": "code",
   "execution_count": 10,
   "metadata": {},
   "outputs": [
    {
     "data": {
      "text/plain": [
       "raw_row_number                 0.000000\n",
       "location                       0.195127\n",
       "county_name                    0.195127\n",
       "subject_age                    4.625146\n",
       "subject_race                   0.048709\n",
       "subject_sex                    0.457316\n",
       "type                           0.000000\n",
       "arrest_made                    0.026813\n",
       "citation_issued                0.026813\n",
       "warning_issued                 0.026813\n",
       "outcome                        0.200747\n",
       "contraband_found              98.368673\n",
       "contraband_drugs              98.368673\n",
       "contraband_weapons            98.368673\n",
       "contraband_alcohol             0.000000\n",
       "contraband_other              98.368673\n",
       "frisk_performed               98.400843\n",
       "search_conducted               0.000000\n",
       "search_basis                  98.506281\n",
       "reason_for_stop               48.579432\n",
       "vehicle_type                   0.145277\n",
       "vehicle_registration_state     0.287275\n",
       "raw_Race                       0.048709\n",
       "year                           0.000000\n",
       "month                          0.000000\n",
       "day                            0.000000\n",
       "dtype: float64"
      ]
     },
     "execution_count": 10,
     "metadata": {},
     "output_type": "execute_result"
    }
   ],
   "source": [
    "#Checking proportion of missing values\n",
    "data.isnull().sum()*100/len(data)"
   ]
  },
  {
   "cell_type": "markdown",
   "metadata": {},
   "source": [
    "<!-- We will use the KNN Imputer for imputing values into the Age and Sex variables for better precision -->"
   ]
  },
  {
   "cell_type": "markdown",
   "metadata": {},
   "source": [
    "We remove nulls from the race column since they constitute only 0.048% of the data for better accuracy."
   ]
  },
  {
   "cell_type": "code",
   "execution_count": 11,
   "metadata": {},
   "outputs": [
    {
     "data": {
      "text/plain": [
       "array(['white', 'hispanic', 'black', 'asian/pacific islander'],\n",
       "      dtype=object)"
      ]
     },
     "execution_count": 11,
     "metadata": {},
     "output_type": "execute_result"
    }
   ],
   "source": [
    "#Removing null, and unknown values from race\n",
    "data=data[-data[\"subject_race\"].isin([\"other\",\"unknown\",np.nan])]\n",
    "data[\"subject_race\"].unique()"
   ]
  },
  {
   "cell_type": "code",
   "execution_count": 12,
   "metadata": {},
   "outputs": [
    {
     "data": {
      "text/plain": [
       "raw_row_number                3386549\n",
       "location                          350\n",
       "county_name                        14\n",
       "subject_age                        85\n",
       "subject_race                        4\n",
       "subject_sex                         2\n",
       "type                                1\n",
       "arrest_made                         2\n",
       "citation_issued                     2\n",
       "warning_issued                      2\n",
       "outcome                             3\n",
       "contraband_found                    2\n",
       "contraband_drugs                    2\n",
       "contraband_weapons                  2\n",
       "contraband_alcohol                  2\n",
       "contraband_other                    2\n",
       "frisk_performed                     2\n",
       "search_conducted                    2\n",
       "search_basis                        3\n",
       "reason_for_stop                     7\n",
       "vehicle_type                        5\n",
       "vehicle_registration_state         51\n",
       "raw_Race                            5\n",
       "year                                9\n",
       "month                              12\n",
       "day                                31\n",
       "dtype: int64"
      ]
     },
     "execution_count": 12,
     "metadata": {},
     "output_type": "execute_result"
    }
   ],
   "source": [
    "data.nunique()"
   ]
  },
  {
   "cell_type": "code",
   "execution_count": 13,
   "metadata": {},
   "outputs": [],
   "source": [
    "# Removing row number \n",
    "data.drop(['raw_row_number'], axis=1, inplace = True)"
   ]
  },
  {
   "cell_type": "markdown",
   "metadata": {},
   "source": [
    "Encoding categorical variables for future analyses"
   ]
  },
  {
   "cell_type": "code",
   "execution_count": 16,
   "metadata": {},
   "outputs": [
    {
     "data": {
      "text/plain": [
       "date                          datetime64[ns]\n",
       "location                            category\n",
       "county_name                         category\n",
       "subject_age                          float64\n",
       "subject_race                        category\n",
       "subject_sex                         category\n",
       "type                                category\n",
       "arrest_made                           object\n",
       "citation_issued                     category\n",
       "warning_issued                      category\n",
       "outcome                             category\n",
       "contraband_found                      object\n",
       "contraband_drugs                      object\n",
       "contraband_weapons                    object\n",
       "contraband_alcohol                      bool\n",
       "contraband_other                      object\n",
       "frisk_performed                       object\n",
       "search_conducted                        bool\n",
       "search_basis                        category\n",
       "reason_for_stop                     category\n",
       "vehicle_type                        category\n",
       "vehicle_registration_state          category\n",
       "raw_Race                              object\n",
       "dtype: object"
      ]
     },
     "execution_count": 16,
     "metadata": {},
     "output_type": "execute_result"
    }
   ],
   "source": [
    "data.dtypes"
   ]
  },
  {
   "cell_type": "code",
   "execution_count": 14,
   "metadata": {},
   "outputs": [
    {
     "data": {
      "text/plain": [
       "location              350\n",
       "subject_race            4\n",
       "citation_issued         2\n",
       "contraband_drugs        2\n",
       "contraband_weapons      2\n",
       "contraband_other        2\n",
       "frisk_performed         2\n",
       "search_basis            3\n",
       "dtype: int64"
      ]
     },
     "execution_count": 14,
     "metadata": {},
     "output_type": "execute_result"
    }
   ],
   "source": [
    "data.select_dtypes(include=[\"object\"]).nunique()"
   ]
  },
  {
   "cell_type": "markdown",
   "metadata": {},
   "source": [
    "### Encoding categorical variables\n",
    "\n",
    "We use the get_dummies function to convert categorical variables to one hot encoded indicator variables"
   ]
  },
  {
   "cell_type": "code",
   "execution_count": null,
   "metadata": {},
   "outputs": [],
   "source": [
    "#One hot encoding categorical variables\n",
    "\n",
    "pd.get_dummies(data.loc[:,['subject_race','subject_sex','arrest_made','citation_issued','outcome','contraband_found','contraband_drugs','contraband_weapons','contraband_alcohol','contraband_other','search_basis','reason_for_stop']])"
   ]
  },
  {
   "cell_type": "code",
   "execution_count": null,
   "metadata": {},
   "outputs": [],
   "source": [
    "pd.get_dummies(data).head()"
   ]
  },
  {
   "cell_type": "code",
   "execution_count": 16,
   "metadata": {},
   "outputs": [],
   "source": [
    "# Before One-Hot Encoding, let's create separate indep. X variables from dep. Y variable\n",
    "X = data.drop('subject_race', axis = 1).copy()\n",
    "# alternatively, X = df.iloc[:, :-1]\n",
    "y = data['subject_race'].copy()"
   ]
  },
  {
   "cell_type": "code",
   "execution_count": 17,
   "metadata": {},
   "outputs": [
    {
     "data": {
      "text/html": [
       "<div>\n",
       "<style scoped>\n",
       "    .dataframe tbody tr th:only-of-type {\n",
       "        vertical-align: middle;\n",
       "    }\n",
       "\n",
       "    .dataframe tbody tr th {\n",
       "        vertical-align: top;\n",
       "    }\n",
       "\n",
       "    .dataframe thead th {\n",
       "        text-align: right;\n",
       "    }\n",
       "</style>\n",
       "<table border=\"1\" class=\"dataframe\">\n",
       "  <thead>\n",
       "    <tr style=\"text-align: right;\">\n",
       "      <th></th>\n",
       "      <th>contraband_alcohol</th>\n",
       "      <th>search_conducted</th>\n",
       "      <th>year</th>\n",
       "      <th>month</th>\n",
       "      <th>day</th>\n",
       "      <th>location_ABINGTON</th>\n",
       "      <th>location_ACTON</th>\n",
       "      <th>location_ACUSHNET</th>\n",
       "      <th>location_ADAMS</th>\n",
       "      <th>location_AGAWAM</th>\n",
       "      <th>...</th>\n",
       "      <th>vehicle_registration_state_WV</th>\n",
       "      <th>vehicle_registration_state_WY</th>\n",
       "      <th>raw_Race_A</th>\n",
       "      <th>raw_Race_American Indian or Alaskan Native</th>\n",
       "      <th>raw_Race_Asian or Pacific Islander</th>\n",
       "      <th>raw_Race_Black</th>\n",
       "      <th>raw_Race_Hispanic</th>\n",
       "      <th>raw_Race_Middle Eastern or East Indian (South Asian)</th>\n",
       "      <th>raw_Race_None - for no operator present citations only</th>\n",
       "      <th>raw_Race_White</th>\n",
       "    </tr>\n",
       "  </thead>\n",
       "  <tbody>\n",
       "    <tr>\n",
       "      <th>0</th>\n",
       "      <td>False</td>\n",
       "      <td>False</td>\n",
       "      <td>2007</td>\n",
       "      <td>6</td>\n",
       "      <td>6</td>\n",
       "      <td>0</td>\n",
       "      <td>0</td>\n",
       "      <td>0</td>\n",
       "      <td>0</td>\n",
       "      <td>0</td>\n",
       "      <td>...</td>\n",
       "      <td>0</td>\n",
       "      <td>0</td>\n",
       "      <td>0</td>\n",
       "      <td>0</td>\n",
       "      <td>0</td>\n",
       "      <td>0</td>\n",
       "      <td>0</td>\n",
       "      <td>0</td>\n",
       "      <td>0</td>\n",
       "      <td>1</td>\n",
       "    </tr>\n",
       "    <tr>\n",
       "      <th>1</th>\n",
       "      <td>False</td>\n",
       "      <td>True</td>\n",
       "      <td>2007</td>\n",
       "      <td>6</td>\n",
       "      <td>7</td>\n",
       "      <td>0</td>\n",
       "      <td>0</td>\n",
       "      <td>0</td>\n",
       "      <td>0</td>\n",
       "      <td>0</td>\n",
       "      <td>...</td>\n",
       "      <td>0</td>\n",
       "      <td>0</td>\n",
       "      <td>0</td>\n",
       "      <td>0</td>\n",
       "      <td>0</td>\n",
       "      <td>0</td>\n",
       "      <td>0</td>\n",
       "      <td>0</td>\n",
       "      <td>0</td>\n",
       "      <td>1</td>\n",
       "    </tr>\n",
       "    <tr>\n",
       "      <th>2</th>\n",
       "      <td>False</td>\n",
       "      <td>False</td>\n",
       "      <td>2007</td>\n",
       "      <td>6</td>\n",
       "      <td>7</td>\n",
       "      <td>0</td>\n",
       "      <td>0</td>\n",
       "      <td>0</td>\n",
       "      <td>0</td>\n",
       "      <td>0</td>\n",
       "      <td>...</td>\n",
       "      <td>0</td>\n",
       "      <td>0</td>\n",
       "      <td>0</td>\n",
       "      <td>0</td>\n",
       "      <td>0</td>\n",
       "      <td>0</td>\n",
       "      <td>0</td>\n",
       "      <td>0</td>\n",
       "      <td>0</td>\n",
       "      <td>1</td>\n",
       "    </tr>\n",
       "    <tr>\n",
       "      <th>3</th>\n",
       "      <td>False</td>\n",
       "      <td>False</td>\n",
       "      <td>2007</td>\n",
       "      <td>6</td>\n",
       "      <td>7</td>\n",
       "      <td>0</td>\n",
       "      <td>0</td>\n",
       "      <td>0</td>\n",
       "      <td>0</td>\n",
       "      <td>0</td>\n",
       "      <td>...</td>\n",
       "      <td>0</td>\n",
       "      <td>0</td>\n",
       "      <td>0</td>\n",
       "      <td>0</td>\n",
       "      <td>0</td>\n",
       "      <td>0</td>\n",
       "      <td>0</td>\n",
       "      <td>0</td>\n",
       "      <td>0</td>\n",
       "      <td>1</td>\n",
       "    </tr>\n",
       "    <tr>\n",
       "      <th>4</th>\n",
       "      <td>False</td>\n",
       "      <td>False</td>\n",
       "      <td>2007</td>\n",
       "      <td>6</td>\n",
       "      <td>7</td>\n",
       "      <td>0</td>\n",
       "      <td>0</td>\n",
       "      <td>0</td>\n",
       "      <td>0</td>\n",
       "      <td>0</td>\n",
       "      <td>...</td>\n",
       "      <td>0</td>\n",
       "      <td>0</td>\n",
       "      <td>0</td>\n",
       "      <td>0</td>\n",
       "      <td>0</td>\n",
       "      <td>0</td>\n",
       "      <td>1</td>\n",
       "      <td>0</td>\n",
       "      <td>0</td>\n",
       "      <td>0</td>\n",
       "    </tr>\n",
       "  </tbody>\n",
       "</table>\n",
       "<p>5 rows × 552 columns</p>\n",
       "</div>"
      ],
      "text/plain": [
       "   contraband_alcohol  search_conducted  year  month  day  location_ABINGTON  \\\n",
       "0               False             False  2007      6    6                  0   \n",
       "1               False              True  2007      6    7                  0   \n",
       "2               False             False  2007      6    7                  0   \n",
       "3               False             False  2007      6    7                  0   \n",
       "4               False             False  2007      6    7                  0   \n",
       "\n",
       "   location_ACTON  location_ACUSHNET  location_ADAMS  location_AGAWAM  ...  \\\n",
       "0               0                  0               0                0  ...   \n",
       "1               0                  0               0                0  ...   \n",
       "2               0                  0               0                0  ...   \n",
       "3               0                  0               0                0  ...   \n",
       "4               0                  0               0                0  ...   \n",
       "\n",
       "   vehicle_registration_state_WV  vehicle_registration_state_WY  raw_Race_A  \\\n",
       "0                              0                              0           0   \n",
       "1                              0                              0           0   \n",
       "2                              0                              0           0   \n",
       "3                              0                              0           0   \n",
       "4                              0                              0           0   \n",
       "\n",
       "   raw_Race_American Indian or Alaskan Native  \\\n",
       "0                                           0   \n",
       "1                                           0   \n",
       "2                                           0   \n",
       "3                                           0   \n",
       "4                                           0   \n",
       "\n",
       "   raw_Race_Asian or Pacific Islander  raw_Race_Black  raw_Race_Hispanic  \\\n",
       "0                                   0               0                  0   \n",
       "1                                   0               0                  0   \n",
       "2                                   0               0                  0   \n",
       "3                                   0               0                  0   \n",
       "4                                   0               0                  1   \n",
       "\n",
       "   raw_Race_Middle Eastern or East Indian (South Asian)  \\\n",
       "0                                                  0      \n",
       "1                                                  0      \n",
       "2                                                  0      \n",
       "3                                                  0      \n",
       "4                                                  0      \n",
       "\n",
       "   raw_Race_None - for no operator present citations only  raw_Race_White  \n",
       "0                                                  0                    1  \n",
       "1                                                  0                    1  \n",
       "2                                                  0                    1  \n",
       "3                                                  0                    1  \n",
       "4                                                  0                    0  \n",
       "\n",
       "[5 rows x 552 columns]"
      ]
     },
     "metadata": {},
     "output_type": "display_data"
    },
    {
     "data": {
      "text/plain": [
       "(3386549, 24)"
      ]
     },
     "metadata": {},
     "output_type": "display_data"
    },
    {
     "data": {
      "text/plain": [
       "(3386549, 552)"
      ]
     },
     "metadata": {},
     "output_type": "display_data"
    }
   ],
   "source": [
    "X_enc = pd.get_dummies(X)\n",
    "display(X_enc.head())\n",
    "display(X.shape)\n",
    "display(X_enc.shape)"
   ]
  },
  {
   "cell_type": "code",
   "execution_count": 18,
   "metadata": {},
   "outputs": [
    {
     "data": {
      "text/plain": [
       "white                     2529780\n",
       "black                      351610\n",
       "hispanic                   338317\n",
       "asian/pacific islander     166842\n",
       "Name: subject_race, dtype: int64"
      ]
     },
     "metadata": {},
     "output_type": "display_data"
    }
   ],
   "source": [
    "# Make sure to convert y dep. variable to from categorical to continous\n",
    "display(y.value_counts())"
   ]
  },
  {
   "cell_type": "code",
   "execution_count": 19,
   "metadata": {},
   "outputs": [],
   "source": [
    "# encode string class values as integers\n",
    "label_encoder = LabelEncoder()\n",
    "label_encoder = label_encoder.fit(y)\n",
    "label_encoded_y = label_encoder.transform(y)"
   ]
  },
  {
   "cell_type": "code",
   "execution_count": 20,
   "metadata": {},
   "outputs": [
    {
     "data": {
      "text/plain": [
       "2.5446506163058618"
      ]
     },
     "execution_count": 20,
     "metadata": {},
     "output_type": "execute_result"
    }
   ],
   "source": [
    "# Checking if the data is imbalanced or not\n",
    "sum(label_encoded_y)/ len(label_encoded_y)"
   ]
  },
  {
   "cell_type": "code",
   "execution_count": 21,
   "metadata": {},
   "outputs": [
    {
     "name": "stdout",
     "output_type": "stream",
     "text": [
      "train ratio = 2.5446501865616553\n",
      "test ratio = 2.544651905536959\n"
     ]
    }
   ],
   "source": [
    "X_train, X_test, y_train, y_test = train_test_split(X_enc, label_encoded_y, random_state = 42, stratify = label_encoded_y)\n",
    "print(\"train ratio =\", sum(y_train)/ len(y_train))\n",
    "print(\"test ratio =\", sum(y_test)/ len(y_test))\n"
   ]
  },
  {
   "cell_type": "code",
   "execution_count": null,
   "metadata": {},
   "outputs": [],
   "source": []
  },
  {
   "cell_type": "code",
   "execution_count": null,
   "metadata": {},
   "outputs": [],
   "source": [
    "# Creating the XGBClassfier shell\n",
    "clf_xgb = xgb.XGBClassifier(objective='multi:softprob', missing=None, seed=42)\n",
    "# Adding the data and fitting the model\n",
    "# Instead of finding the optimal # of tress using K-Cross Validation, let's use early stopping to stop the tree when the cost function no longer reduces\n",
    "# XGBoost will do the cross validation for us; we just have to specifiy the # of rounds to exhaust with no improvement before stopping\n",
    "# We use evaluation metric as Area Under Precision-Recall Curve\n",
    "clf_xgb.fit(X_train,\n",
    "            y_train,\n",
    "            verbose=True,\n",
    "            early_stopping_rounds=10,\n",
    "            eval_metric='aucpr',\n",
    "            eval_set=[(X_test, y_test)])"
   ]
  },
  {
   "cell_type": "code",
   "execution_count": null,
   "metadata": {},
   "outputs": [],
   "source": []
  },
  {
   "cell_type": "code",
   "execution_count": null,
   "metadata": {},
   "outputs": [],
   "source": []
  },
  {
   "cell_type": "code",
   "execution_count": null,
   "metadata": {},
   "outputs": [],
   "source": []
  },
  {
   "cell_type": "markdown",
   "metadata": {},
   "source": [
    "<!-- We create a new binomial variable that tells us if the stop was before or after sunset -->"
   ]
  }
 ],
 "metadata": {
  "kernelspec": {
   "name": "python3",
   "display_name": "Python 3.8.1 64-bit",
   "metadata": {
    "interpreter": {
     "hash": "082e9a3bcad0a290d0001e938aa60b99250c6c2ef33a923c00b70f9826caf4b7"
    }
   }
  },
  "language_info": {
   "codemirror_mode": {
    "name": "ipython",
    "version": 3
   },
   "file_extension": ".py",
   "mimetype": "text/x-python",
   "name": "python",
   "nbconvert_exporter": "python",
   "pygments_lexer": "ipython3",
   "version": "3.8.1-final"
  }
 },
 "nbformat": 4,
 "nbformat_minor": 4
}